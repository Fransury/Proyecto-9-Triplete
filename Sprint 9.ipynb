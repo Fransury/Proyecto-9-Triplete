{
 "cells": [
  {
   "cell_type": "markdown",
   "metadata": {},
   "source": [
    "# Introducción\n",
    "En este proyecto, asumimos el rol de analista de datos para una gran tienda en línea. Nuestro objetivo principal es aumentar los ingresos de la tienda, para ello trabajamos en estrecha colaboración con el departamento de marketing para evaluar una serie de hipótesis. Estas hipótesis, se basan en diferentes estrategias de negocio, se evaluarán y priorizarán con el fin de identificar las más prometedoras.\n",
    "\n",
    "El proyecto se divide en dos partes:\n",
    "\n",
    "1. Priorización de Hipótesis:\n",
    "En la primera parte del proyecto, se nos presenta un conjunto de nueve hipótesis que podrían impactar los ingresos de la tienda. Para priorizar estas hipótesis, aplicaremos dos marcos de decisión comúnmente utilizados en la toma de decisiones empresariales: ICE (Impacto, Confianza y Esfuerzo) y RICE (Alcance, Impacto, Confianza y Esfuerzo). El análisis nos permitirá comprender cuáles de estas hipótesis tienen el mayor potencial para ser implementadas primero y cómo la inclusión del factor \"Alcance\" (Reach) en el marco RICE puede influir en las decisiones de priorización.\n",
    "\n",
    "2. Análisis de un Test A/B:\n",
    "En la segunda parte del proyecto, realizaremos un análisis detallado de un test A/B que ya ha sido ejecutado. Este test A/B tiene como objetivo comparar dos grupos de usuarios (Grupo A y Grupo B) para determinar cuál de las estrategias probadas es más efectiva para incrementar los ingresos. Utilizando los datos de pedidos y visitas, analizaremos diferentes métricas como los ingresos acumulados, el tamaño promedio de los pedidos, la tasa de conversión, y más. A lo largo del análisis, se identificará la significancia estadística de las diferencias observadas, lo que nos permitirá tomar decisiones basadas en datos sobre cuál de las estrategias debería ser adoptada.\n",
    "\n",
    "Al final del proyecto, seremos capaces de priorizar las hipótesis con mayor impacto potencial y tomar decisiones informadas basadas en los resultados del test A/B, contribuyendo así a la mejora continua de las estrategias de negocio de la tienda."
   ]
  },
  {
   "cell_type": "code",
   "execution_count": 1,
   "metadata": {},
   "outputs": [],
   "source": [
    "# Inicializacion\n",
    "import pandas as pd\n",
    "import datetime as dt\n",
    "import numpy as np\n",
    "import matplotlib.pyplot as plt\n",
    "from scipy import stats as st\n",
    "from statsmodels.stats.proportion import proportions_ztest\n",
    "from scipy.stats import ttest_ind, mannwhitneyu"
   ]
  },
  {
   "cell_type": "markdown",
   "metadata": {},
   "source": [
    "# Descargar los datos y prepárarlos para el análisis. "
   ]
  },
  {
   "cell_type": "code",
   "execution_count": 2,
   "metadata": {},
   "outputs": [
    {
     "name": "stdout",
     "output_type": "stream",
     "text": [
      "<class 'pandas.core.frame.DataFrame'>\n",
      "RangeIndex: 9 entries, 0 to 8\n",
      "Data columns (total 1 columns):\n",
      " #   Column                                     Non-Null Count  Dtype \n",
      "---  ------                                     --------------  ----- \n",
      " 0   Hypothesis;Reach;Impact;Confidence;Effort  9 non-null      object\n",
      "dtypes: object(1)\n",
      "memory usage: 200.0+ bytes\n",
      "<class 'pandas.core.frame.DataFrame'>\n",
      "RangeIndex: 1197 entries, 0 to 1196\n",
      "Data columns (total 5 columns):\n",
      " #   Column         Non-Null Count  Dtype  \n",
      "---  ------         --------------  -----  \n",
      " 0   transactionId  1197 non-null   int64  \n",
      " 1   visitorId      1197 non-null   int64  \n",
      " 2   date           1197 non-null   object \n",
      " 3   revenue        1197 non-null   float64\n",
      " 4   group          1197 non-null   object \n",
      "dtypes: float64(1), int64(2), object(2)\n",
      "memory usage: 46.9+ KB\n",
      "<class 'pandas.core.frame.DataFrame'>\n",
      "RangeIndex: 62 entries, 0 to 61\n",
      "Data columns (total 3 columns):\n",
      " #   Column  Non-Null Count  Dtype \n",
      "---  ------  --------------  ----- \n",
      " 0   date    62 non-null     object\n",
      " 1   group   62 non-null     object\n",
      " 2   visits  62 non-null     int64 \n",
      "dtypes: int64(1), object(2)\n",
      "memory usage: 1.6+ KB\n"
     ]
    }
   ],
   "source": [
    "# Cargar los datos\n",
    "hypothesis = pd.read_csv('/datasets/hypotheses_us.csv')\n",
    "orders = pd.read_csv('/datasets/orders_us.csv')\n",
    "visitors = pd.read_csv('/datasets/visits_us.csv')\n",
    "\n",
    "# Verificar la información de los datasets\n",
    "hypothesis.info()\n",
    "orders.info()\n",
    "visitors.info()"
   ]
  },
  {
   "cell_type": "markdown",
   "metadata": {},
   "source": [
    "# Observaciones para la muestras de datos\n",
    "\n",
    "El dataset hypothesis tiene un problema evidente de formato, ya que toda la información está contenida en una única columna denominada \"Hypothesis; Reach; Impact; Confidence; Effort\". Esto sugiere que los datos no se han separado adecuadamente en múltiples columnas, lo que impide su análisis directo. Antes de poder aplicar cualquier modelo o realizar un análisis (como la priorización mediante ICE o RICE), es esencial dividir esta columna en múltiples columnas separadas (es decir, Hypothesis, Reach, Impact, Confidence, Effort). El dataset tiene solo 9 entradas, lo cual es adecuado para el propósito de priorización, pero limita la variabilidad en los datos.\n",
    "\n",
    "El dataset de orders cuenta con 1197 entradas, sin valores nulos en ninguna de las columnas, lo cual es positivo y facilita el análisis, las columnas transactionId y visitorId son del tipo entero (int64), lo que es apropiado, mientras que revenue es un valor numérico de punto flotante (float64), adecuado para manejar los ingresos. Sin embargo, la columna date es de tipo object, lo que sugiere que aún no ha sido convertida a un formato de fecha y hora, necesario para el análisis temporal.\n",
    "\n",
    "Las columnas group y revenue serán esenciales para comparar los resultados de los grupos A/B y determinar la efectividad de las estrategias en términos de ingresos.\n",
    "\n",
    "\n",
    "El dataset de visitas es considerablemente más pequeño, con solo 62 entradas. Esto sugiere que representa datos agregados o un periodo de tiempo limitado, no hay valores nulos, lo que facilita el análisis. Similar al dataset de pedidos, la columna date también es de tipo object, lo que indica que se requiere una conversión a un formato de fecha para facilitar el análisis temporal.\n",
    "\n",
    "La columna visits será crucial para calcular la tasa de conversión de cada grupo, que es una métrica fundamental en el análisis de test A/B.\n",
    "\n",
    "# Conclusiones Generales:\n",
    "\n",
    "Antes de realizar cualquier análisis, se requiere un preprocesamiento significativo de los datos, particularmente para separar las columnas en el dataset de hipótesis y convertir las columnas de fecha en los datasets de pedidos y visitas.\n",
    "Preparación Adecuada: Los datasets de pedidos y visitas parecen estar en buen estado para el análisis estadístico y la visualización, pero se necesitarán ajustes menores (como la conversión de fechas y convertir las columnas a snake_case)."
   ]
  },
  {
   "cell_type": "code",
   "execution_count": 3,
   "metadata": {},
   "outputs": [],
   "source": [
    "# Separar las columnas del dataset hypotesis\n",
    "hypothesis = pd.read_csv('/datasets/hypotheses_us.csv', sep = ';')\n",
    "\n",
    "# Cambiar el Dtype de la columna date usando el formato correcto\n",
    "orders['date'] = orders['date'].map(lambda x: dt.datetime.strptime(x, '%Y-%m-%d'))\n",
    "visitors['date'] = visitors['date'].map(lambda x: dt.datetime.strptime(x, '%Y-%m-%d'))\n",
    "\n",
    "\n",
    "# Convertir nombres de columnas a snake_case\n",
    "hypothesis.columns = hypothesis.columns.str.lower()\n",
    "orders.columns = ['transaction_id', 'visitor_id', 'date', 'revenue', 'group']"
   ]
  },
  {
   "cell_type": "code",
   "execution_count": 4,
   "metadata": {},
   "outputs": [
    {
     "name": "stdout",
     "output_type": "stream",
     "text": [
      "<class 'pandas.core.frame.DataFrame'>\n",
      "RangeIndex: 9 entries, 0 to 8\n",
      "Data columns (total 5 columns):\n",
      " #   Column      Non-Null Count  Dtype \n",
      "---  ------      --------------  ----- \n",
      " 0   hypothesis  9 non-null      object\n",
      " 1   reach       9 non-null      int64 \n",
      " 2   impact      9 non-null      int64 \n",
      " 3   confidence  9 non-null      int64 \n",
      " 4   effort      9 non-null      int64 \n",
      "dtypes: int64(4), object(1)\n",
      "memory usage: 488.0+ bytes\n"
     ]
    },
    {
     "data": {
      "text/html": [
       "<div>\n",
       "<style scoped>\n",
       "    .dataframe tbody tr th:only-of-type {\n",
       "        vertical-align: middle;\n",
       "    }\n",
       "\n",
       "    .dataframe tbody tr th {\n",
       "        vertical-align: top;\n",
       "    }\n",
       "\n",
       "    .dataframe thead th {\n",
       "        text-align: right;\n",
       "    }\n",
       "</style>\n",
       "<table border=\"1\" class=\"dataframe\">\n",
       "  <thead>\n",
       "    <tr style=\"text-align: right;\">\n",
       "      <th></th>\n",
       "      <th>hypothesis</th>\n",
       "      <th>reach</th>\n",
       "      <th>impact</th>\n",
       "      <th>confidence</th>\n",
       "      <th>effort</th>\n",
       "    </tr>\n",
       "  </thead>\n",
       "  <tbody>\n",
       "    <tr>\n",
       "      <th>0</th>\n",
       "      <td>Add two new channels for attracting traffic. T...</td>\n",
       "      <td>3</td>\n",
       "      <td>10</td>\n",
       "      <td>8</td>\n",
       "      <td>6</td>\n",
       "    </tr>\n",
       "    <tr>\n",
       "      <th>1</th>\n",
       "      <td>Launch your own delivery service. This will sh...</td>\n",
       "      <td>2</td>\n",
       "      <td>5</td>\n",
       "      <td>4</td>\n",
       "      <td>10</td>\n",
       "    </tr>\n",
       "    <tr>\n",
       "      <th>2</th>\n",
       "      <td>Add product recommendation blocks to the store...</td>\n",
       "      <td>8</td>\n",
       "      <td>3</td>\n",
       "      <td>7</td>\n",
       "      <td>3</td>\n",
       "    </tr>\n",
       "    <tr>\n",
       "      <th>3</th>\n",
       "      <td>Change the category structure. This will incre...</td>\n",
       "      <td>8</td>\n",
       "      <td>3</td>\n",
       "      <td>3</td>\n",
       "      <td>8</td>\n",
       "    </tr>\n",
       "    <tr>\n",
       "      <th>4</th>\n",
       "      <td>Change the background color on the main page. ...</td>\n",
       "      <td>3</td>\n",
       "      <td>1</td>\n",
       "      <td>1</td>\n",
       "      <td>1</td>\n",
       "    </tr>\n",
       "  </tbody>\n",
       "</table>\n",
       "</div>"
      ],
      "text/plain": [
       "                                          hypothesis  reach  impact  \\\n",
       "0  Add two new channels for attracting traffic. T...      3      10   \n",
       "1  Launch your own delivery service. This will sh...      2       5   \n",
       "2  Add product recommendation blocks to the store...      8       3   \n",
       "3  Change the category structure. This will incre...      8       3   \n",
       "4  Change the background color on the main page. ...      3       1   \n",
       "\n",
       "   confidence  effort  \n",
       "0           8       6  \n",
       "1           4      10  \n",
       "2           7       3  \n",
       "3           3       8  \n",
       "4           1       1  "
      ]
     },
     "metadata": {},
     "output_type": "display_data"
    },
    {
     "data": {
      "text/plain": [
       "0"
      ]
     },
     "execution_count": 4,
     "metadata": {},
     "output_type": "execute_result"
    }
   ],
   "source": [
    "# Imprime la informacion general/resumida sobre el df hypothesis\n",
    "hypothesis.info()\n",
    "display(hypothesis.head())\n",
    "hypothesis.duplicated().sum()"
   ]
  },
  {
   "cell_type": "code",
   "execution_count": 5,
   "metadata": {},
   "outputs": [
    {
     "name": "stdout",
     "output_type": "stream",
     "text": [
      "<class 'pandas.core.frame.DataFrame'>\n",
      "RangeIndex: 1197 entries, 0 to 1196\n",
      "Data columns (total 5 columns):\n",
      " #   Column          Non-Null Count  Dtype         \n",
      "---  ------          --------------  -----         \n",
      " 0   transaction_id  1197 non-null   int64         \n",
      " 1   visitor_id      1197 non-null   int64         \n",
      " 2   date            1197 non-null   datetime64[ns]\n",
      " 3   revenue         1197 non-null   float64       \n",
      " 4   group           1197 non-null   object        \n",
      "dtypes: datetime64[ns](1), float64(1), int64(2), object(1)\n",
      "memory usage: 46.9+ KB\n"
     ]
    },
    {
     "data": {
      "text/html": [
       "<div>\n",
       "<style scoped>\n",
       "    .dataframe tbody tr th:only-of-type {\n",
       "        vertical-align: middle;\n",
       "    }\n",
       "\n",
       "    .dataframe tbody tr th {\n",
       "        vertical-align: top;\n",
       "    }\n",
       "\n",
       "    .dataframe thead th {\n",
       "        text-align: right;\n",
       "    }\n",
       "</style>\n",
       "<table border=\"1\" class=\"dataframe\">\n",
       "  <thead>\n",
       "    <tr style=\"text-align: right;\">\n",
       "      <th></th>\n",
       "      <th>transaction_id</th>\n",
       "      <th>visitor_id</th>\n",
       "      <th>date</th>\n",
       "      <th>revenue</th>\n",
       "      <th>group</th>\n",
       "    </tr>\n",
       "  </thead>\n",
       "  <tbody>\n",
       "    <tr>\n",
       "      <th>0</th>\n",
       "      <td>3667963787</td>\n",
       "      <td>3312258926</td>\n",
       "      <td>2019-08-15</td>\n",
       "      <td>30.4</td>\n",
       "      <td>B</td>\n",
       "    </tr>\n",
       "    <tr>\n",
       "      <th>1</th>\n",
       "      <td>2804400009</td>\n",
       "      <td>3642806036</td>\n",
       "      <td>2019-08-15</td>\n",
       "      <td>15.2</td>\n",
       "      <td>B</td>\n",
       "    </tr>\n",
       "    <tr>\n",
       "      <th>2</th>\n",
       "      <td>2961555356</td>\n",
       "      <td>4069496402</td>\n",
       "      <td>2019-08-15</td>\n",
       "      <td>10.2</td>\n",
       "      <td>A</td>\n",
       "    </tr>\n",
       "    <tr>\n",
       "      <th>3</th>\n",
       "      <td>3797467345</td>\n",
       "      <td>1196621759</td>\n",
       "      <td>2019-08-15</td>\n",
       "      <td>155.1</td>\n",
       "      <td>B</td>\n",
       "    </tr>\n",
       "    <tr>\n",
       "      <th>4</th>\n",
       "      <td>2282983706</td>\n",
       "      <td>2322279887</td>\n",
       "      <td>2019-08-15</td>\n",
       "      <td>40.5</td>\n",
       "      <td>B</td>\n",
       "    </tr>\n",
       "  </tbody>\n",
       "</table>\n",
       "</div>"
      ],
      "text/plain": [
       "   transaction_id  visitor_id       date  revenue group\n",
       "0      3667963787  3312258926 2019-08-15     30.4     B\n",
       "1      2804400009  3642806036 2019-08-15     15.2     B\n",
       "2      2961555356  4069496402 2019-08-15     10.2     A\n",
       "3      3797467345  1196621759 2019-08-15    155.1     B\n",
       "4      2282983706  2322279887 2019-08-15     40.5     B"
      ]
     },
     "metadata": {},
     "output_type": "display_data"
    },
    {
     "data": {
      "text/plain": [
       "0"
      ]
     },
     "execution_count": 5,
     "metadata": {},
     "output_type": "execute_result"
    }
   ],
   "source": [
    "# Imprime la informacion general/resumida sobre el df orders\n",
    "orders.info()\n",
    "display(orders.head())\n",
    "orders.duplicated().sum()"
   ]
  },
  {
   "cell_type": "code",
   "execution_count": 6,
   "metadata": {},
   "outputs": [
    {
     "name": "stdout",
     "output_type": "stream",
     "text": [
      "<class 'pandas.core.frame.DataFrame'>\n",
      "RangeIndex: 62 entries, 0 to 61\n",
      "Data columns (total 3 columns):\n",
      " #   Column  Non-Null Count  Dtype         \n",
      "---  ------  --------------  -----         \n",
      " 0   date    62 non-null     datetime64[ns]\n",
      " 1   group   62 non-null     object        \n",
      " 2   visits  62 non-null     int64         \n",
      "dtypes: datetime64[ns](1), int64(1), object(1)\n",
      "memory usage: 1.6+ KB\n"
     ]
    },
    {
     "data": {
      "text/html": [
       "<div>\n",
       "<style scoped>\n",
       "    .dataframe tbody tr th:only-of-type {\n",
       "        vertical-align: middle;\n",
       "    }\n",
       "\n",
       "    .dataframe tbody tr th {\n",
       "        vertical-align: top;\n",
       "    }\n",
       "\n",
       "    .dataframe thead th {\n",
       "        text-align: right;\n",
       "    }\n",
       "</style>\n",
       "<table border=\"1\" class=\"dataframe\">\n",
       "  <thead>\n",
       "    <tr style=\"text-align: right;\">\n",
       "      <th></th>\n",
       "      <th>date</th>\n",
       "      <th>group</th>\n",
       "      <th>visits</th>\n",
       "    </tr>\n",
       "  </thead>\n",
       "  <tbody>\n",
       "    <tr>\n",
       "      <th>0</th>\n",
       "      <td>2019-08-01</td>\n",
       "      <td>A</td>\n",
       "      <td>719</td>\n",
       "    </tr>\n",
       "    <tr>\n",
       "      <th>1</th>\n",
       "      <td>2019-08-02</td>\n",
       "      <td>A</td>\n",
       "      <td>619</td>\n",
       "    </tr>\n",
       "    <tr>\n",
       "      <th>2</th>\n",
       "      <td>2019-08-03</td>\n",
       "      <td>A</td>\n",
       "      <td>507</td>\n",
       "    </tr>\n",
       "    <tr>\n",
       "      <th>3</th>\n",
       "      <td>2019-08-04</td>\n",
       "      <td>A</td>\n",
       "      <td>717</td>\n",
       "    </tr>\n",
       "    <tr>\n",
       "      <th>4</th>\n",
       "      <td>2019-08-05</td>\n",
       "      <td>A</td>\n",
       "      <td>756</td>\n",
       "    </tr>\n",
       "  </tbody>\n",
       "</table>\n",
       "</div>"
      ],
      "text/plain": [
       "        date group  visits\n",
       "0 2019-08-01     A     719\n",
       "1 2019-08-02     A     619\n",
       "2 2019-08-03     A     507\n",
       "3 2019-08-04     A     717\n",
       "4 2019-08-05     A     756"
      ]
     },
     "metadata": {},
     "output_type": "display_data"
    },
    {
     "data": {
      "text/plain": [
       "0"
      ]
     },
     "execution_count": 6,
     "metadata": {},
     "output_type": "execute_result"
    }
   ],
   "source": [
    "# Imprime la informacion general/resumida sobre el df visits\n",
    "visitors.info()\n",
    "display(visitors.head())\n",
    "visitors.duplicated().sum()"
   ]
  },
  {
   "cell_type": "code",
   "execution_count": 7,
   "metadata": {},
   "outputs": [
    {
     "data": {
      "text/html": [
       "<div>\n",
       "<style scoped>\n",
       "    .dataframe tbody tr th:only-of-type {\n",
       "        vertical-align: middle;\n",
       "    }\n",
       "\n",
       "    .dataframe tbody tr th {\n",
       "        vertical-align: top;\n",
       "    }\n",
       "\n",
       "    .dataframe thead th {\n",
       "        text-align: right;\n",
       "    }\n",
       "</style>\n",
       "<table border=\"1\" class=\"dataframe\">\n",
       "  <thead>\n",
       "    <tr style=\"text-align: right;\">\n",
       "      <th></th>\n",
       "      <th>transaction_id</th>\n",
       "      <th>visitor_id</th>\n",
       "      <th>date</th>\n",
       "      <th>revenue</th>\n",
       "      <th>group</th>\n",
       "    </tr>\n",
       "  </thead>\n",
       "  <tbody>\n",
       "    <tr>\n",
       "      <th>0</th>\n",
       "      <td>3667963787</td>\n",
       "      <td>3312258926</td>\n",
       "      <td>2019-08-15</td>\n",
       "      <td>30.4</td>\n",
       "      <td>B</td>\n",
       "    </tr>\n",
       "    <tr>\n",
       "      <th>1</th>\n",
       "      <td>2804400009</td>\n",
       "      <td>3642806036</td>\n",
       "      <td>2019-08-15</td>\n",
       "      <td>15.2</td>\n",
       "      <td>B</td>\n",
       "    </tr>\n",
       "    <tr>\n",
       "      <th>3</th>\n",
       "      <td>3797467345</td>\n",
       "      <td>1196621759</td>\n",
       "      <td>2019-08-15</td>\n",
       "      <td>155.1</td>\n",
       "      <td>B</td>\n",
       "    </tr>\n",
       "    <tr>\n",
       "      <th>4</th>\n",
       "      <td>2282983706</td>\n",
       "      <td>2322279887</td>\n",
       "      <td>2019-08-15</td>\n",
       "      <td>40.5</td>\n",
       "      <td>B</td>\n",
       "    </tr>\n",
       "    <tr>\n",
       "      <th>5</th>\n",
       "      <td>182168103</td>\n",
       "      <td>935554773</td>\n",
       "      <td>2019-08-15</td>\n",
       "      <td>35.0</td>\n",
       "      <td>B</td>\n",
       "    </tr>\n",
       "  </tbody>\n",
       "</table>\n",
       "</div>"
      ],
      "text/plain": [
       "   transaction_id  visitor_id       date  revenue group\n",
       "0      3667963787  3312258926 2019-08-15     30.4     B\n",
       "1      2804400009  3642806036 2019-08-15     15.2     B\n",
       "3      3797467345  1196621759 2019-08-15    155.1     B\n",
       "4      2282983706  2322279887 2019-08-15     40.5     B\n",
       "5       182168103   935554773 2019-08-15     35.0     B"
      ]
     },
     "execution_count": 7,
     "metadata": {},
     "output_type": "execute_result"
    }
   ],
   "source": [
    "# Filtrar visitantes por grupo\n",
    "group_a = orders[orders['group'] == 'A']['visitor_id']\n",
    "group_b = orders[orders['group'] == 'B']['visitor_id']\n",
    "\n",
    "# Encontrar visitantes que están en ambos grupos\n",
    "duplicated_visitors = pd.Series(list(set(group_a) & set(group_b)))\n",
    "\n",
    "# Filtrar los pedidos para eliminar estos visitantes\n",
    "orders = orders[~orders['visitor_id'].isin(duplicated_visitors)]\n",
    "\n",
    "orders.head()"
   ]
  },
  {
   "cell_type": "code",
   "execution_count": 8,
   "metadata": {},
   "outputs": [
    {
     "data": {
      "text/plain": [
       "transaction_id    0\n",
       "visitor_id        0\n",
       "date              0\n",
       "revenue           0\n",
       "group             0\n",
       "dtype: int64"
      ]
     },
     "metadata": {},
     "output_type": "display_data"
    },
    {
     "data": {
      "text/plain": [
       "date      0\n",
       "group     0\n",
       "visits    0\n",
       "dtype: int64"
      ]
     },
     "metadata": {},
     "output_type": "display_data"
    }
   ],
   "source": [
    "# Verifica si hay datos faltantes\n",
    "display(orders.isnull().sum())\n",
    "display(visitors.isnull().sum())"
   ]
  },
  {
   "cell_type": "markdown",
   "metadata": {},
   "source": [
    "##  Priorizar hipótesis."
   ]
  },
  {
   "cell_type": "code",
   "execution_count": 9,
   "metadata": {},
   "outputs": [
    {
     "data": {
      "text/html": [
       "<div>\n",
       "<style scoped>\n",
       "    .dataframe tbody tr th:only-of-type {\n",
       "        vertical-align: middle;\n",
       "    }\n",
       "\n",
       "    .dataframe tbody tr th {\n",
       "        vertical-align: top;\n",
       "    }\n",
       "\n",
       "    .dataframe thead th {\n",
       "        text-align: right;\n",
       "    }\n",
       "</style>\n",
       "<table border=\"1\" class=\"dataframe\">\n",
       "  <thead>\n",
       "    <tr style=\"text-align: right;\">\n",
       "      <th></th>\n",
       "      <th>hypothesis</th>\n",
       "      <th>ICE</th>\n",
       "    </tr>\n",
       "  </thead>\n",
       "  <tbody>\n",
       "    <tr>\n",
       "      <th>8</th>\n",
       "      <td>Launch a promotion that gives users discounts ...</td>\n",
       "      <td>16.200000</td>\n",
       "    </tr>\n",
       "    <tr>\n",
       "      <th>0</th>\n",
       "      <td>Add two new channels for attracting traffic. T...</td>\n",
       "      <td>13.333333</td>\n",
       "    </tr>\n",
       "    <tr>\n",
       "      <th>7</th>\n",
       "      <td>Add a subscription form to all the main pages....</td>\n",
       "      <td>11.200000</td>\n",
       "    </tr>\n",
       "    <tr>\n",
       "      <th>6</th>\n",
       "      <td>Show banners with current offers and sales on ...</td>\n",
       "      <td>8.000000</td>\n",
       "    </tr>\n",
       "    <tr>\n",
       "      <th>2</th>\n",
       "      <td>Add product recommendation blocks to the store...</td>\n",
       "      <td>7.000000</td>\n",
       "    </tr>\n",
       "    <tr>\n",
       "      <th>1</th>\n",
       "      <td>Launch your own delivery service. This will sh...</td>\n",
       "      <td>2.000000</td>\n",
       "    </tr>\n",
       "    <tr>\n",
       "      <th>5</th>\n",
       "      <td>Add a customer review page. This will increase...</td>\n",
       "      <td>1.333333</td>\n",
       "    </tr>\n",
       "    <tr>\n",
       "      <th>3</th>\n",
       "      <td>Change the category structure. This will incre...</td>\n",
       "      <td>1.125000</td>\n",
       "    </tr>\n",
       "    <tr>\n",
       "      <th>4</th>\n",
       "      <td>Change the background color on the main page. ...</td>\n",
       "      <td>1.000000</td>\n",
       "    </tr>\n",
       "  </tbody>\n",
       "</table>\n",
       "</div>"
      ],
      "text/plain": [
       "                                          hypothesis        ICE\n",
       "8  Launch a promotion that gives users discounts ...  16.200000\n",
       "0  Add two new channels for attracting traffic. T...  13.333333\n",
       "7  Add a subscription form to all the main pages....  11.200000\n",
       "6  Show banners with current offers and sales on ...   8.000000\n",
       "2  Add product recommendation blocks to the store...   7.000000\n",
       "1  Launch your own delivery service. This will sh...   2.000000\n",
       "5  Add a customer review page. This will increase...   1.333333\n",
       "3  Change the category structure. This will incre...   1.125000\n",
       "4  Change the background color on the main page. ...   1.000000"
      ]
     },
     "execution_count": 9,
     "metadata": {},
     "output_type": "execute_result"
    }
   ],
   "source": [
    "# Calcular el puntaje ICE\n",
    "hypothesis['ICE'] = (hypothesis['impact'] * hypothesis['confidence']) / hypothesis['effort']\n",
    "\n",
    "# Ordenar las hipótesis por puntaje ICE en orden descendente\n",
    "hypothesis_ice_sorted = hypothesis.sort_values(by='ICE', ascending=False)\n",
    "\n",
    "# Mostrar el resultado\n",
    "hypothesis_ice_sorted[['hypothesis', 'ICE']]"
   ]
  },
  {
   "cell_type": "code",
   "execution_count": 10,
   "metadata": {},
   "outputs": [
    {
     "data": {
      "text/html": [
       "<div>\n",
       "<style scoped>\n",
       "    .dataframe tbody tr th:only-of-type {\n",
       "        vertical-align: middle;\n",
       "    }\n",
       "\n",
       "    .dataframe tbody tr th {\n",
       "        vertical-align: top;\n",
       "    }\n",
       "\n",
       "    .dataframe thead th {\n",
       "        text-align: right;\n",
       "    }\n",
       "</style>\n",
       "<table border=\"1\" class=\"dataframe\">\n",
       "  <thead>\n",
       "    <tr style=\"text-align: right;\">\n",
       "      <th></th>\n",
       "      <th>hypothesis</th>\n",
       "      <th>RICE</th>\n",
       "    </tr>\n",
       "  </thead>\n",
       "  <tbody>\n",
       "    <tr>\n",
       "      <th>7</th>\n",
       "      <td>Add a subscription form to all the main pages....</td>\n",
       "      <td>112.0</td>\n",
       "    </tr>\n",
       "    <tr>\n",
       "      <th>2</th>\n",
       "      <td>Add product recommendation blocks to the store...</td>\n",
       "      <td>56.0</td>\n",
       "    </tr>\n",
       "    <tr>\n",
       "      <th>0</th>\n",
       "      <td>Add two new channels for attracting traffic. T...</td>\n",
       "      <td>40.0</td>\n",
       "    </tr>\n",
       "    <tr>\n",
       "      <th>6</th>\n",
       "      <td>Show banners with current offers and sales on ...</td>\n",
       "      <td>40.0</td>\n",
       "    </tr>\n",
       "    <tr>\n",
       "      <th>8</th>\n",
       "      <td>Launch a promotion that gives users discounts ...</td>\n",
       "      <td>16.2</td>\n",
       "    </tr>\n",
       "    <tr>\n",
       "      <th>3</th>\n",
       "      <td>Change the category structure. This will incre...</td>\n",
       "      <td>9.0</td>\n",
       "    </tr>\n",
       "    <tr>\n",
       "      <th>1</th>\n",
       "      <td>Launch your own delivery service. This will sh...</td>\n",
       "      <td>4.0</td>\n",
       "    </tr>\n",
       "    <tr>\n",
       "      <th>5</th>\n",
       "      <td>Add a customer review page. This will increase...</td>\n",
       "      <td>4.0</td>\n",
       "    </tr>\n",
       "    <tr>\n",
       "      <th>4</th>\n",
       "      <td>Change the background color on the main page. ...</td>\n",
       "      <td>3.0</td>\n",
       "    </tr>\n",
       "  </tbody>\n",
       "</table>\n",
       "</div>"
      ],
      "text/plain": [
       "                                          hypothesis   RICE\n",
       "7  Add a subscription form to all the main pages....  112.0\n",
       "2  Add product recommendation blocks to the store...   56.0\n",
       "0  Add two new channels for attracting traffic. T...   40.0\n",
       "6  Show banners with current offers and sales on ...   40.0\n",
       "8  Launch a promotion that gives users discounts ...   16.2\n",
       "3  Change the category structure. This will incre...    9.0\n",
       "1  Launch your own delivery service. This will sh...    4.0\n",
       "5  Add a customer review page. This will increase...    4.0\n",
       "4  Change the background color on the main page. ...    3.0"
      ]
     },
     "execution_count": 10,
     "metadata": {},
     "output_type": "execute_result"
    }
   ],
   "source": [
    "# Calcular el puntaje RICE\n",
    "hypothesis['RICE'] = (hypothesis['reach'] * hypothesis['impact'] * hypothesis['confidence']) / hypothesis['effort']\n",
    "\n",
    "# Ordenar las hipótesis por puntaje RICE en orden descendente\n",
    "hypothesis_rice_sorted = hypothesis.sort_values(by='RICE', ascending=False)\n",
    "\n",
    "# Mostrar el resultado\n",
    "hypothesis_rice_sorted[['hypothesis', 'RICE']]"
   ]
  },
  {
   "cell_type": "code",
   "execution_count": 11,
   "metadata": {},
   "outputs": [
    {
     "data": {
      "text/html": [
       "<div>\n",
       "<style scoped>\n",
       "    .dataframe tbody tr th:only-of-type {\n",
       "        vertical-align: middle;\n",
       "    }\n",
       "\n",
       "    .dataframe tbody tr th {\n",
       "        vertical-align: top;\n",
       "    }\n",
       "\n",
       "    .dataframe thead th {\n",
       "        text-align: right;\n",
       "    }\n",
       "</style>\n",
       "<table border=\"1\" class=\"dataframe\">\n",
       "  <thead>\n",
       "    <tr style=\"text-align: right;\">\n",
       "      <th></th>\n",
       "      <th>hypothesis</th>\n",
       "      <th>ICE</th>\n",
       "      <th>RICE</th>\n",
       "    </tr>\n",
       "  </thead>\n",
       "  <tbody>\n",
       "    <tr>\n",
       "      <th>8</th>\n",
       "      <td>Launch a promotion that gives users discounts ...</td>\n",
       "      <td>16.200000</td>\n",
       "      <td>16.2</td>\n",
       "    </tr>\n",
       "    <tr>\n",
       "      <th>0</th>\n",
       "      <td>Add two new channels for attracting traffic. T...</td>\n",
       "      <td>13.333333</td>\n",
       "      <td>40.0</td>\n",
       "    </tr>\n",
       "    <tr>\n",
       "      <th>7</th>\n",
       "      <td>Add a subscription form to all the main pages....</td>\n",
       "      <td>11.200000</td>\n",
       "      <td>112.0</td>\n",
       "    </tr>\n",
       "    <tr>\n",
       "      <th>6</th>\n",
       "      <td>Show banners with current offers and sales on ...</td>\n",
       "      <td>8.000000</td>\n",
       "      <td>40.0</td>\n",
       "    </tr>\n",
       "    <tr>\n",
       "      <th>2</th>\n",
       "      <td>Add product recommendation blocks to the store...</td>\n",
       "      <td>7.000000</td>\n",
       "      <td>56.0</td>\n",
       "    </tr>\n",
       "    <tr>\n",
       "      <th>1</th>\n",
       "      <td>Launch your own delivery service. This will sh...</td>\n",
       "      <td>2.000000</td>\n",
       "      <td>4.0</td>\n",
       "    </tr>\n",
       "    <tr>\n",
       "      <th>5</th>\n",
       "      <td>Add a customer review page. This will increase...</td>\n",
       "      <td>1.333333</td>\n",
       "      <td>4.0</td>\n",
       "    </tr>\n",
       "    <tr>\n",
       "      <th>3</th>\n",
       "      <td>Change the category structure. This will incre...</td>\n",
       "      <td>1.125000</td>\n",
       "      <td>9.0</td>\n",
       "    </tr>\n",
       "    <tr>\n",
       "      <th>4</th>\n",
       "      <td>Change the background color on the main page. ...</td>\n",
       "      <td>1.000000</td>\n",
       "      <td>3.0</td>\n",
       "    </tr>\n",
       "  </tbody>\n",
       "</table>\n",
       "</div>"
      ],
      "text/plain": [
       "                                          hypothesis        ICE   RICE\n",
       "8  Launch a promotion that gives users discounts ...  16.200000   16.2\n",
       "0  Add two new channels for attracting traffic. T...  13.333333   40.0\n",
       "7  Add a subscription form to all the main pages....  11.200000  112.0\n",
       "6  Show banners with current offers and sales on ...   8.000000   40.0\n",
       "2  Add product recommendation blocks to the store...   7.000000   56.0\n",
       "1  Launch your own delivery service. This will sh...   2.000000    4.0\n",
       "5  Add a customer review page. This will increase...   1.333333    4.0\n",
       "3  Change the category structure. This will incre...   1.125000    9.0\n",
       "4  Change the background color on the main page. ...   1.000000    3.0"
      ]
     },
     "execution_count": 11,
     "metadata": {},
     "output_type": "execute_result"
    }
   ],
   "source": [
    "# Comparar los rankings de ICE y RICE\n",
    "comparison = hypothesis[['hypothesis', 'ICE', 'RICE']].sort_values(by='ICE', ascending=False)\n",
    "comparison"
   ]
  },
  {
   "cell_type": "markdown",
   "metadata": {},
   "source": [
    "# Conclusión sobre los Resultados de la Prioritización de Hipótesis usando ICE y RICE\n",
    "\n",
    "La tabla presentada muestra los resultados de la priorización de hipótesis utilizando dos frameworks: ICE (Impacto, Confianza, Esfuerzo) y RICE (Alcance, Impacto, Confianza, Esfuerzo). A continuación se detallan las principales conclusiones:\n",
    "\n",
    "Impacto del Alcance en la Prioridad: El framework RICE incluye el factor Reach (Alcance), lo que provoca un cambio significativo en la priorización de las hipótesis en comparación con ICE. Por ejemplo, la hipótesis \"Agregar un formulario de suscripción a todas las páginas principales\" tiene un ICE de 11.2 y ocupa una posición media en la lista. Sin embargo, en RICE, su valor se eleva a 112.0, colocándola como una de las hipótesis más prioritarias. Esto indica que el alcance de esta hipótesis es considerablemente alto, lo que aumenta su importancia cuando se considera en RICE.\n",
    "\n",
    "Consistencia en la Hipótesis Principal: La hipótesis \"Lanzar una promoción que ofrezca a los usuarios descuentos\" mantiene su posición como una de las más prioritarias tanto en ICE como en RICE (16.2 en ambos). Esto sugiere que esta idea tiene un alto impacto y confianza, y que su alcance y esfuerzo son apropiados.\n",
    "\n",
    "Discrepancias entre ICE y RICE: La mayor discrepancia entre los dos métodos se observa en la hipótesis \"Agregar dos nuevos canales para atraer tráfico\". Con un ICE de 13.33, es la segunda más alta en la lista, pero con RICE (40.0), aunque sigue siendo importante, no está en la cima. Esto puede deberse a un alcance moderado en comparación con otras hipótesis.\n",
    "\n",
    "Hipótesis de Bajo Impacto: Las hipótesis que implican cambios menores, como \"Cambiar la estructura de categorías\" y \"Cambiar el color de fondo en la página principal\", tienen puntajes bajos en ambos frameworks, indicando que no son prioritarias. Estas hipótesis probablemente tienen un bajo impacto y un alcance limitado.\n",
    "\n",
    "# Conclusión Final\n",
    "La introducción del alcance en el análisis con RICE permite una priorización más completa, destacando hipótesis que, aunque podrían parecer menos impactantes bajo ICE, son críticas debido a su capacidad para llegar a una amplia audiencia. La hipótesis sobre agregar un formulario de suscripción se destaca como la de mayor prioridad en RICE, reflejando su potencial de alto alcance. Este análisis refuerza la importancia de considerar múltiples factores al priorizar acciones estratégicas en un negocio, y sugiere que las decisiones basadas en RICE podrían ser más alineadas con objetivos de largo alcance y gran escala."
   ]
  },
  {
   "cell_type": "markdown",
   "metadata": {},
   "source": [
    "## Análisis de test A/B"
   ]
  },
  {
   "cell_type": "code",
   "execution_count": 12,
   "metadata": {},
   "outputs": [
    {
     "data": {
      "text/html": [
       "<div>\n",
       "<style scoped>\n",
       "    .dataframe tbody tr th:only-of-type {\n",
       "        vertical-align: middle;\n",
       "    }\n",
       "\n",
       "    .dataframe tbody tr th {\n",
       "        vertical-align: top;\n",
       "    }\n",
       "\n",
       "    .dataframe thead th {\n",
       "        text-align: right;\n",
       "    }\n",
       "</style>\n",
       "<table border=\"1\" class=\"dataframe\">\n",
       "  <thead>\n",
       "    <tr style=\"text-align: right;\">\n",
       "      <th></th>\n",
       "      <th>date</th>\n",
       "      <th>group</th>\n",
       "      <th>orders</th>\n",
       "      <th>buyers</th>\n",
       "      <th>revenue</th>\n",
       "      <th>visitors</th>\n",
       "    </tr>\n",
       "  </thead>\n",
       "  <tbody>\n",
       "    <tr>\n",
       "      <th>0</th>\n",
       "      <td>2019-08-01</td>\n",
       "      <td>A</td>\n",
       "      <td>23</td>\n",
       "      <td>19</td>\n",
       "      <td>2266.6</td>\n",
       "      <td>719</td>\n",
       "    </tr>\n",
       "    <tr>\n",
       "      <th>1</th>\n",
       "      <td>2019-08-01</td>\n",
       "      <td>B</td>\n",
       "      <td>17</td>\n",
       "      <td>17</td>\n",
       "      <td>967.2</td>\n",
       "      <td>713</td>\n",
       "    </tr>\n",
       "    <tr>\n",
       "      <th>2</th>\n",
       "      <td>2019-08-02</td>\n",
       "      <td>A</td>\n",
       "      <td>42</td>\n",
       "      <td>36</td>\n",
       "      <td>3734.9</td>\n",
       "      <td>1338</td>\n",
       "    </tr>\n",
       "    <tr>\n",
       "      <th>3</th>\n",
       "      <td>2019-08-02</td>\n",
       "      <td>B</td>\n",
       "      <td>40</td>\n",
       "      <td>39</td>\n",
       "      <td>3535.3</td>\n",
       "      <td>1294</td>\n",
       "    </tr>\n",
       "    <tr>\n",
       "      <th>4</th>\n",
       "      <td>2019-08-03</td>\n",
       "      <td>A</td>\n",
       "      <td>66</td>\n",
       "      <td>60</td>\n",
       "      <td>5550.1</td>\n",
       "      <td>1845</td>\n",
       "    </tr>\n",
       "  </tbody>\n",
       "</table>\n",
       "</div>"
      ],
      "text/plain": [
       "        date group  orders  buyers  revenue  visitors\n",
       "0 2019-08-01     A      23      19   2266.6       719\n",
       "1 2019-08-01     B      17      17    967.2       713\n",
       "2 2019-08-02     A      42      36   3734.9      1338\n",
       "3 2019-08-02     B      40      39   3535.3      1294\n",
       "4 2019-08-03     A      66      60   5550.1      1845"
      ]
     },
     "execution_count": 12,
     "metadata": {},
     "output_type": "execute_result"
    }
   ],
   "source": [
    "# Creación de grupos por fechas\n",
    "dates_groups = orders[['date','group']].drop_duplicates()\n",
    "\n",
    "# Agregación de Pedidos\n",
    "orders_aggregated = dates_groups.apply(\n",
    "    lambda x: orders[np.logical_and(orders['date'] <= x['date'], orders['group'] == x['group'])].agg({\n",
    "        'date' : 'max',\n",
    "        'group' : 'max',\n",
    "        'transaction_id' : pd.Series.nunique,\n",
    "        'visitor_id' : pd.Series.nunique,\n",
    "        'revenue' : 'sum'}), axis=1).sort_values(by=['date','group'])\n",
    "\n",
    "# Agregación de Visitantes\n",
    "visitors_aggregated = dates_groups.apply(\n",
    "    lambda x: visitors[np.logical_and(visitors['date'] <= x['date'], visitors['group'] == x['group'])].agg({\n",
    "        'date' : 'max', \n",
    "        'group' : 'max', \n",
    "        'visits' : 'sum'}), axis=1).sort_values(by=['date','group'])\n",
    "\n",
    "# Combinación de Datos Acumulados\n",
    "cumulative_data = orders_aggregated.merge(visitors_aggregated, left_on=['date', 'group'], right_on=['date', 'group'])\n",
    "cumulative_data.columns = ['date', 'group', 'orders', 'buyers', 'revenue', 'visitors']\n",
    "\n",
    "# DataFrame con pedidos acumulados e ingresos acumulados por día, grupo A\n",
    "cumulative_revenue_A = cumulative_data[cumulative_data['group']=='A'][['date','revenue', 'orders']]\n",
    "\n",
    "# DataFrame con pedidos acumulados e ingresos acumulados por día, grupo B\n",
    "cumulative_revenue_B = cumulative_data[cumulative_data['group']=='B'][['date','revenue', 'orders']]\n",
    "\n",
    "# Reunir los datos\n",
    "cumulative_revenue = cumulative_revenue_A.merge(cumulative_revenue_B, left_on='date', right_on='date', how='left', suffixes=['A', 'B'])\n",
    "\n",
    "# Visualización del Resultado Final\n",
    "cumulative_data.head()\n",
    "\n"
   ]
  },
  {
   "cell_type": "code",
   "execution_count": 13,
   "metadata": {},
   "outputs": [
    {
     "data": {
      "image/png": "[encoded data removed]",
      "text/plain": [
       "<Figure size 1000x600 with 1 Axes>"
      ]
     },
     "metadata": {},
     "output_type": "display_data"
    }
   ],
   "source": [
    "# Trazar el gráfico de ingresos del grupo A\n",
    "plt.figure(figsize=(10, 6))\n",
    "plt.plot(cumulative_revenue_A['date'], cumulative_revenue_A['revenue'], label='A')\n",
    "\n",
    "# Trazar el gráfico de ingresos del grupo B\n",
    "plt.plot(cumulative_revenue_B['date'], cumulative_revenue_B['revenue'], label='B')\n",
    "\n",
    "plt.title('Ingresos Acumulados por Grupo')\n",
    "plt.xlabel('Fecha')\n",
    "plt.ylabel('Ingresos Acumulados')\n",
    "plt.legend()\n",
    "plt.xticks(rotation=45)\n",
    "plt.show()"
   ]
  },
  {
   "cell_type": "markdown",
   "metadata": {},
   "source": [
    "# Ingresos Acumulados por Grupo:\n",
    "El gráfico muestra los ingresos acumulados a lo largo del tiempo para los grupos A y B, se observa que el Grupo B ha generado consistentemente mayores ingresos acumulados en comparación con el Grupo A. Esto sugiere que las modificaciones o estrategias aplicadas al Grupo B han sido más efectivas para aumentar los ingresos. Sin embargo, la diferencia significativa en ingresos podría estar influenciada por varios factores, que deben analizarse en detalle."
   ]
  },
  {
   "cell_type": "code",
   "execution_count": 14,
   "metadata": {},
   "outputs": [
    {
     "data": {
      "image/png": "[encoded data removed]",
      "text/plain": [
       "<Figure size 1000x600 with 1 Axes>"
      ]
     },
     "metadata": {},
     "output_type": "display_data"
    }
   ],
   "source": [
    "plt.figure(figsize=(10, 6))\n",
    "plt.plot(cumulative_revenue_A['date'], cumulative_revenue_A['revenue']/cumulative_revenue_A['orders'], label='A')\n",
    "plt.plot(cumulative_revenue_B['date'], cumulative_revenue_B['revenue']/cumulative_revenue_B['orders'], label='B')\n",
    "plt.title('Tamaño Promedio de Pedido Acumulado por Grupo')\n",
    "plt.xlabel('Fecha')\n",
    "plt.ylabel('Tamaño Promedio de Pedido Acumulado')\n",
    "plt.legend()\n",
    "plt.xticks(rotation=45)\n",
    "plt.show()"
   ]
  },
  {
   "cell_type": "markdown",
   "metadata": {},
   "source": [
    "# Tamaño de Pedido Promedio:\n",
    "Al principio, ambos grupos tienen un ingreso promedio bastante similar en términos de ingrsos de pedidos promedio. Sin embargo, después del 17 de agosto, el Grupo B muestra un aumento significativo en los pedidos promedios, lo que podría indicar que alguna intervención tuvo un impacto positivo en este grupo.\n",
    "\n",
    "A lo largo del período observado, el Grupo A tiene una tendencia más estable y menos volátil en cuanto a pedidos promedio. No hay cambios bruscos, lo que sugiere que no hubo un gran impacto en este grupo o que los pedido se mantuvieron consistentes. El aumento brusco observado en el Grupo B alrededor del 17 de agosto podría indicar una anomalía o un cambio significativo, como un gran pedido aislado o una serie de pedidos más costosos. Después de este punto, aunque el ingreso promedio en el Grupo B disminuye ligeramente, sigue siendo más alto que en el Grupo A.\n",
    "\n",
    "En general, después del 17 de agosto, el Grupo B mantiene ingresos promedio por pedido más altos que el Grupo A, lo que podría sugerir que las modificaciones aplicadas al Grupo B fueron más efectivas en términos de generar ingresos por pedido.\n",
    "\n",
    "El pico en el Grupo B sugiere que podría haber outliers o eventos excepcionales que deberían investigarse más a fondo para determinar si son representativos o si deberían excluirse del análisis, identificar qué cambios se implementaron específicamente el 17 de agosto o cerca de esa fecha para entender mejor qué pudo haber causado la variación en el Grupo B."
   ]
  },
  {
   "cell_type": "code",
   "execution_count": 15,
   "metadata": {},
   "outputs": [
    {
     "data": {
      "image/png": "[encoded data removed]",
      "text/plain": [
       "<Figure size 1000x600 with 1 Axes>"
      ]
     },
     "metadata": {},
     "output_type": "display_data"
    }
   ],
   "source": [
    "# trazar un gráfico de diferencia relativa para los tamaños de compra promedio\n",
    "plt.figure(figsize=(10, 6))\n",
    "plt.plot(cumulative_revenue['date'], (cumulative_revenue['revenueB']/cumulative_revenue['ordersB'])/(cumulative_revenue['revenueA']/cumulative_revenue['ordersA'])-1, label='Diferencia Relativa en Tamaño de Compra Promedio (B vs A)' )\n",
    "plt.axhline(y=0, color='black', linestyle='--')\n",
    "plt.title('Diferencia Relativa en Tamaño de compra Promedio Acumulado')\n",
    "plt.xlabel('Fecha')\n",
    "plt.ylabel('Diferencia Relativa')\n",
    "plt.legend()\n",
    "plt.xticks(rotation=45)\n",
    "plt.show()"
   ]
  },
  {
   "cell_type": "code",
   "execution_count": 16,
   "metadata": {},
   "outputs": [
    {
     "data": {
      "text/html": [
       "<div>\n",
       "<style scoped>\n",
       "    .dataframe tbody tr th:only-of-type {\n",
       "        vertical-align: middle;\n",
       "    }\n",
       "\n",
       "    .dataframe tbody tr th {\n",
       "        vertical-align: top;\n",
       "    }\n",
       "\n",
       "    .dataframe thead th {\n",
       "        text-align: right;\n",
       "    }\n",
       "</style>\n",
       "<table border=\"1\" class=\"dataframe\">\n",
       "  <thead>\n",
       "    <tr style=\"text-align: right;\">\n",
       "      <th></th>\n",
       "      <th>date</th>\n",
       "      <th>group</th>\n",
       "      <th>transaction_id</th>\n",
       "      <th>visits</th>\n",
       "      <th>conversion_rate</th>\n",
       "    </tr>\n",
       "  </thead>\n",
       "  <tbody>\n",
       "    <tr>\n",
       "      <th>0</th>\n",
       "      <td>2019-08-01</td>\n",
       "      <td>A</td>\n",
       "      <td>23</td>\n",
       "      <td>719</td>\n",
       "      <td>0.031989</td>\n",
       "    </tr>\n",
       "    <tr>\n",
       "      <th>1</th>\n",
       "      <td>2019-08-01</td>\n",
       "      <td>B</td>\n",
       "      <td>17</td>\n",
       "      <td>713</td>\n",
       "      <td>0.023843</td>\n",
       "    </tr>\n",
       "    <tr>\n",
       "      <th>2</th>\n",
       "      <td>2019-08-02</td>\n",
       "      <td>A</td>\n",
       "      <td>19</td>\n",
       "      <td>619</td>\n",
       "      <td>0.030695</td>\n",
       "    </tr>\n",
       "    <tr>\n",
       "      <th>3</th>\n",
       "      <td>2019-08-02</td>\n",
       "      <td>B</td>\n",
       "      <td>23</td>\n",
       "      <td>581</td>\n",
       "      <td>0.039587</td>\n",
       "    </tr>\n",
       "    <tr>\n",
       "      <th>4</th>\n",
       "      <td>2019-08-03</td>\n",
       "      <td>A</td>\n",
       "      <td>24</td>\n",
       "      <td>507</td>\n",
       "      <td>0.047337</td>\n",
       "    </tr>\n",
       "  </tbody>\n",
       "</table>\n",
       "</div>"
      ],
      "text/plain": [
       "        date group  transaction_id  visits  conversion_rate\n",
       "0 2019-08-01     A              23     719         0.031989\n",
       "1 2019-08-01     B              17     713         0.023843\n",
       "2 2019-08-02     A              19     619         0.030695\n",
       "3 2019-08-02     B              23     581         0.039587\n",
       "4 2019-08-03     A              24     507         0.047337"
      ]
     },
     "metadata": {},
     "output_type": "display_data"
    },
    {
     "data": {
      "image/png": "[encoded data removed]",
      "text/plain": [
       "<Figure size 1000x600 with 1 Axes>"
      ]
     },
     "metadata": {},
     "output_type": "display_data"
    }
   ],
   "source": [
    "# Calcular la tasa de conversión diaria\n",
    "daily_orders = orders.groupby(['date', 'group']).agg({'transaction_id': 'count'}).reset_index()\n",
    "daily_visitors = visitors.groupby(['date', 'group']).agg({'visits': 'sum'}).reset_index()\n",
    "conversion = pd.merge(daily_orders, daily_visitors, on=['date', 'group'])\n",
    "conversion['conversion_rate'] = conversion['transaction_id'] / conversion['visits']\n",
    "\n",
    "display(conversion.head())\n",
    "\n",
    "# Graficar las tasas de conversión diarias\n",
    "plt.figure(figsize=(10, 6))\n",
    "for group in conversion['group'].unique():\n",
    "    plt.plot(conversion[conversion['group'] == group]['date'],\n",
    "             conversion[conversion['group'] == group]['conversion_rate'],\n",
    "             label=f'Group {group}')\n",
    "\n",
    "plt.title('Tasa de Conversión Diaria por Grupo')\n",
    "plt.xlabel('Fecha')\n",
    "plt.ylabel('Tasa de Conversión')\n",
    "plt.legend()\n",
    "plt.xticks(rotation=45)\n",
    "plt.show()"
   ]
  },
  {
   "cell_type": "markdown",
   "metadata": {},
   "source": [
    "# Gráfico de Tasa de Conversión Diaria por Grupo:\n",
    "Este gráfico muestra la tasa de conversión diaria para el porcentaje de usuarios que completaron una acción específica, como una compra, para dos grupos diferentes Group A y Group B. Se observa que ambas líneas tienen una alta variabilidad, con algunas fechas donde la tasa de conversión es considerablemente mayor en un grupo en comparación con el otro, la fluctuación en las líneas sugiere que los resultados de las tasas de conversión no son constantes y pueden estar influenciados por varios factores.\n",
    "La comparación entre ambos grupos a lo largo del tiempo puede ayudar a entender si uno de los grupos tiene un rendimiento consistentemente mejor o si las diferencias son aleatorias."
   ]
  },
  {
   "cell_type": "code",
   "execution_count": 17,
   "metadata": {},
   "outputs": [
    {
     "data": {
      "text/html": [
       "<div>\n",
       "<style scoped>\n",
       "    .dataframe tbody tr th:only-of-type {\n",
       "        vertical-align: middle;\n",
       "    }\n",
       "\n",
       "    .dataframe tbody tr th {\n",
       "        vertical-align: top;\n",
       "    }\n",
       "\n",
       "    .dataframe thead th {\n",
       "        text-align: right;\n",
       "    }\n",
       "</style>\n",
       "<table border=\"1\" class=\"dataframe\">\n",
       "  <thead>\n",
       "    <tr style=\"text-align: right;\">\n",
       "      <th></th>\n",
       "      <th>visitor_id</th>\n",
       "      <th>transaction_id</th>\n",
       "    </tr>\n",
       "  </thead>\n",
       "  <tbody>\n",
       "    <tr>\n",
       "      <th>0</th>\n",
       "      <td>5114589</td>\n",
       "      <td>1</td>\n",
       "    </tr>\n",
       "    <tr>\n",
       "      <th>1</th>\n",
       "      <td>6958315</td>\n",
       "      <td>1</td>\n",
       "    </tr>\n",
       "    <tr>\n",
       "      <th>2</th>\n",
       "      <td>11685486</td>\n",
       "      <td>1</td>\n",
       "    </tr>\n",
       "    <tr>\n",
       "      <th>3</th>\n",
       "      <td>39475350</td>\n",
       "      <td>1</td>\n",
       "    </tr>\n",
       "    <tr>\n",
       "      <th>4</th>\n",
       "      <td>47206413</td>\n",
       "      <td>1</td>\n",
       "    </tr>\n",
       "  </tbody>\n",
       "</table>\n",
       "</div>"
      ],
      "text/plain": [
       "   visitor_id  transaction_id\n",
       "0     5114589               1\n",
       "1     6958315               1\n",
       "2    11685486               1\n",
       "3    39475350               1\n",
       "4    47206413               1"
      ]
     },
     "metadata": {},
     "output_type": "display_data"
    },
    {
     "data": {
      "image/png": "[encoded data removed]",
      "text/plain": [
       "<Figure size 1000x600 with 1 Axes>"
      ]
     },
     "metadata": {},
     "output_type": "display_data"
    }
   ],
   "source": [
    "# Calcular el número de pedidos por usuario\n",
    "orders_per_user = orders.groupby('visitor_id').agg({'transaction_id': 'count'}).reset_index()\n",
    "\n",
    "display(orders_per_user.head())\n",
    "\n",
    "# Graficar el número de pedidos por usuario\n",
    "plt.figure(figsize=(10, 6))\n",
    "plt.scatter(range(len(orders_per_user)), orders_per_user['transaction_id'], alpha=0.5)\n",
    "plt.title('Número de Pedidos por Usuario')\n",
    "plt.xlabel('Usuario')\n",
    "plt.ylabel('Número de Pedidos')\n",
    "plt.show()"
   ]
  },
  {
   "cell_type": "markdown",
   "metadata": {},
   "source": [
    "# Gráfico de Dispersión por Número de Pedidos por Usuarios:\n",
    "Mayoría de los usuarios realizan un solo pedido: La gran mayoría de los puntos están en la línea de 1 pedido, lo que sugiere que la mayoría de los usuarios han realizado un solo pedido. Esto es bastante común en muchos negocios, donde la mayoría de los clientes realizan una compra única.\n",
    "\n",
    "Hay un número más pequeño de usuarios que han realizado 2 o 3 pedidos. Estos puntos están más dispersos en las líneas correspondientes a 2 y 3 en el eje Y, estos usuarios recurrentes podrían ser clientes leales, y podría ser útil identificarlos para campañas de retención o marketing personalizado.\n",
    "\n",
    "No hay un incremento significativo en el número de pedidos a medida que se avanza en el eje X, lo que indica que los pedidos no están concentrados en unos pocos usuarios, sino que están bastante distribuidos entre los usuarios.\n",
    "\n",
    "El hecho de que la mayoría de los puntos se encuentren en las líneas de 1 a 3 pedidos sugiere que hay poca variabilidad en el número de pedidos por usuario. No se observan usuarios con más de 3 pedidos, lo que podría indicar que no hay una fuerte tendencia de usuarios que realicen múltiples compras.\n",
    "\n",
    "# Conclusión\n",
    "Dado que la mayoría de los usuarios realizan solo un pedido, una estrategia para incentivar compras adicionales podría ser beneficiosa. Los usuarios que hacen 2 o 3 pedidos podrían representar una base importante para el negocio y tal vez convendría implementar programas de fidelización para aumentar su número de compras.\n",
    "\n",
    "Sería interesante analizar qué factores llevan a ciertos usuarios a realizar más de un pedido para replicar este comportamiento en otros clientes."
   ]
  },
  {
   "cell_type": "code",
   "execution_count": 18,
   "metadata": {},
   "outputs": [
    {
     "name": "stdout",
     "output_type": "stream",
     "text": [
      "Percentil 95: 1.0\n",
      "Percentil 99: 2.0\n"
     ]
    }
   ],
   "source": [
    "# Calcular los percentiles 95 y 99 para el número de pedidos por usuario\n",
    "percentile_95 = orders_per_user['transaction_id'].quantile(0.95)\n",
    "percentile_99 = orders_per_user['transaction_id'].quantile(0.99)\n",
    "\n",
    "print(f'Percentil 95: {percentile_95}')\n",
    "print(f'Percentil 99: {percentile_99}')"
   ]
  },
  {
   "cell_type": "code",
   "execution_count": 19,
   "metadata": {},
   "outputs": [
    {
     "data": {
      "image/png": "[encoded data removed]",
      "text/plain": [
       "<Figure size 1000x600 with 1 Axes>"
      ]
     },
     "metadata": {},
     "output_type": "display_data"
    }
   ],
   "source": [
    "# Graficar el precio de los pedidos\n",
    "plt.figure(figsize=(10, 6))\n",
    "plt.scatter(range(len(orders)), orders['revenue'], alpha=0.5)\n",
    "plt.title('Precios de Pedidos')\n",
    "plt.xlabel('Pedido')\n",
    "plt.ylabel('Precio')\n",
    "plt.show()"
   ]
  },
  {
   "cell_type": "markdown",
   "metadata": {},
   "source": [
    "# Gráfico de Precios de Pedidos:\n",
    "\n",
    "La mayoría de los pedidos (puntos) se encuentran en la parte baja del gráfico, con precios relativamente bajos, principalmente por debajo de 2500 unidades monetarias, esto sugiere que la mayoría de los pedidos tienen un precio bajo o moderado, lo cual puede ser típico de la mayoría de los clientes.\n",
    "\n",
    "Hay un punto claramente fuera de lo común (outlier) en el gráfico con un precio de aproximadamente 20,000 unidades monetarias.\n",
    "Este valor es significativamente mayor que el resto de los pedidos, lo que indica que uno o unos pocos pedidos tienen precios extremadamente altos.\n",
    "\n",
    "Además del outlier más extremo, también se observan algunos otros pedidos con precios elevados, aunque no tan altos como el de 20,000 unidades monetaria. Estos puntos se encuentran entre 2500 y 5000 unidades monetarias.\n",
    "\n",
    "# Conclusiones:\n",
    "La presencia de un pedido con un precio tan alto en comparación con el resto sugiere que podría tratarse de un caso especial, como una venta de un producto de lujo o una cantidad excepcionalmente grande de productos en un solo pedido. Es importante investigar estos outliers para entender mejor su naturaleza.\n",
    "\n",
    "También, estos outliers pueden distorsionar el análisis estadístico del conjunto de datos, por lo que podría ser necesario tratarlos por separado o eliminarlos en ciertos análisis.\n",
    "\n",
    "La concentración de la mayoría de los pedidos en la parte baja del gráfico sugiere que el negocio tiene un mercado principal de productos o servicios de bajo a mediano costo, esto puede ser representativo del poder adquisitivo de la mayoría de los clientes.\n",
    "\n",
    "Los datos sugieren que el mercado está dividido en dos segmentos principales: un gran volumen de clientes que realizan pedidos de bajo costo y un segmento pequeño de clientes que realizan compras de alto valor. Esto podría ser relevante para estrategias de marketing y pricing.\n",
    "\n",
    "Sería valioso hacer un análisis más detallado de los pedidos con precios extremadamente altos para entender qué factores contribuyen a esos valores, podría ser un producto especial o una promoción específica que atrae a clientes con un poder adquisitivo significativamente mayor."
   ]
  },
  {
   "cell_type": "code",
   "execution_count": 20,
   "metadata": {},
   "outputs": [
    {
     "name": "stdout",
     "output_type": "stream",
     "text": [
      "Percentil 95: 414.275\n",
      "Percentil 99: 830.3\n"
     ]
    }
   ],
   "source": [
    "# Calcular los percentiles 95 y 99 para los precios de pedidos\n",
    "price_percentile_95 = orders['revenue'].quantile(0.95)\n",
    "price_percentile_99 = orders['revenue'].quantile(0.99)\n",
    "\n",
    "print(f'Percentil 95: {price_percentile_95}')\n",
    "print(f'Percentil 99: {price_percentile_99}')"
   ]
  },
  {
   "cell_type": "code",
   "execution_count": 21,
   "metadata": {},
   "outputs": [
    {
     "name": "stdout",
     "output_type": "stream",
     "text": [
      "Estadístico de prueba: -2.5449\n",
      "P-valor: 0.0109\n"
     ]
    }
   ],
   "source": [
    "# Calcula las conversiones para cada grupo\n",
    "conversions_A = orders[orders['group'] == 'A']['visitor_id'].nunique()\n",
    "conversions_B = orders[orders['group'] == 'B']['visitor_id'].nunique()\n",
    "\n",
    "# Calcula el número total de usuarios en cada grupo\n",
    "total_users_A = visitors[visitors['group'] == 'A']['visits'].sum()\n",
    "total_users_B = visitors[visitors['group'] == 'B']['visits'].sum()\n",
    "\n",
    "# Tasas de conversión\n",
    "conversion_rate_A = conversions_A / total_users_A\n",
    "conversion_rate_B = conversions_B / total_users_B\n",
    "\n",
    "# Realiza la prueba de proporciones Z\n",
    "count = np.array([conversions_A, conversions_B])\n",
    "nobs = np.array([total_users_A, total_users_B])\n",
    "stat, pval = proportions_ztest(count, nobs)\n",
    "\n",
    "print(f\"Estadístico de prueba: {stat:.4f}\")\n",
    "print(f\"P-valor: {pval:.4f}\")"
   ]
  },
  {
   "cell_type": "markdown",
   "metadata": {},
   "source": [
    "# Resultados del Test de Significancia estadística de la diferencia en la conversión entre los grupos\n",
    "Estadístico de prueba (Z): -2.5449\n",
    "P-valor: 0.0109\n",
    "\n",
    "# Conclusiones\n",
    "P-valor < 0.05: El p-valor obtenido es 0.0109, que es menor que el umbral común de 0.05, esto significa que hay una diferencia estadísticamente significativa en la tasa de conversión entre los grupos A y B.\n",
    "\n",
    "La probabilidad de que la diferencia observada en las tasas de conversión entre los dos grupos sea debida al azar es muy baja (aproximadamente 1.09%). Esto sugiere que una de las estrategias o variaciones utilizadas en el grupo tiene un impacto real en la tasa de conversión.\n",
    "\n",
    "El valor negativo del estadístico Z (-2.5449) indica que el grupo B (usualmente el segundo grupo) tiene una tasa de conversión mayor que el grupo A (el grupo de control) si seguimos la convención de que un estadístico negativo sugiere que el grupo B es mejor.\n",
    "\n",
    "Dado que la diferencia es estadísticamente significativa, podríamos recomendar adoptar la estrategia del grupo que mostró una mejor tasa de conversión (probablemente el grupo B). Este grupo podría ser considerado como el \"líder\" en este experimento A/B.\n",
    "\n",
    "Podemos considera analizar más a fondo las estrategias aplicadas en ambos grupos para entender qué factores específicos están impulsando la mejora en la tasa de conversión. Podría ser útil realizar pruebas adicionales o verificar los resultados con una muestra más grande para confirmar la consistencia de este hallazgo.\n",
    "\n",
    "Este resultado sugiere que hay un efecto real en las tasas de conversión debido a la diferencia en las condiciones aplicadas a los grupos, lo que justifica una acción basada en estos hallazgos."
   ]
  },
  {
   "cell_type": "code",
   "execution_count": 22,
   "metadata": {},
   "outputs": [
    {
     "name": "stdout",
     "output_type": "stream",
     "text": [
      "Estadístico de prueba: -0.8345\n",
      "P-valor: 0.8622\n"
     ]
    }
   ],
   "source": [
    "# Filtra el tamaño de los pedidos por grupo\n",
    "tamanos_pedido_A = orders[orders['group'] == 'A']['revenue']\n",
    "tamanos_pedido_B = orders[orders['group'] == 'B']['revenue']\n",
    "\n",
    "# Prueba de Mann-Whitney U (para distribuciones no normales o varianzas desiguales)\n",
    "u_stat, p_value = st.mannwhitneyu(tamanos_pedido_A, tamanos_pedido_B, alternative='two-sided')\n",
    "\n",
    "# Realiza la prueba t de Student\n",
    "t_stat, pval = ttest_ind(tamanos_pedido_A, tamanos_pedido_B, equal_var=False)\n",
    "\n",
    "print(f'Estadístico de prueba: {t_stat:.4f}')\n",
    "print(f'P-valor: {p_value:.4f}')"
   ]
  },
  {
   "cell_type": "markdown",
   "metadata": {},
   "source": [
    "# Resultados del Test de Significancia estadística de la diferencia en el tamaño promedio de pedido \n",
    "Se has realizado dos pruebas estadísticas para comparar los tamaños de los pedidos entre dos grupos (A y B):\n",
    "\n",
    "- Prueba de Mann-Whitney U: Es una prueba no paramétrica que se utiliza cuando no se puede asumir que las distribuciones de los dos grupos sean normales o cuando las varianzas son desiguales.\n",
    "\n",
    "- Prueba t de Student (independiente): Compara las medias de dos grupos. En este caso, se ha utilizado con la opción equal_var=False, lo que indica que no se asume que las varianzas de los dos grupos sean iguales (conocido como la prueba t de Welch).\n",
    "\n",
    "# Resultados\n",
    "Estadístico de prueba: -0.8345\n",
    "P-valor: 0.8622\n",
    "\n",
    "# Conclusiones\n",
    "1. Interpretación del Estadístico de Prueba\n",
    "Un estadístico de prueba de -0.8345 en el contexto de la prueba t indica que la diferencia entre las medias de los tamaños de los pedidos en los grupos A y B es pequeña y no se aleja mucho de 0 en términos de desviaciones estándar.\n",
    "\n",
    "En la prueba de Mann-Whitney U, este estadístico compararía las distribuciones de los tamaños de los pedidos entre los dos grupos, y un valor cercano a cero indicaría poca diferencia en las distribuciones.\n",
    "\n",
    "2. Interpretación del P-valor\n",
    "Un p-valor de 0.8622 es bastante alto, lo que significa que no hay evidencia suficiente para rechazar la hipótesis nula en ambas pruebas (Mann-Whitney U y t de Student).\n",
    "\n",
    "La hipótesis nula generalmente establece que no hay diferencia significativa entre los dos grupos (A y B) en términos de los tamaños de los pedidos.\n",
    "\n",
    "# Conclusión Global\n",
    "No hay una diferencia significativa en los tamaños de los pedidos entre los grupos A y B. Dado el p-valor alto (0.8622), no hay evidencia estadísticamente significativa para afirmar que los tamaños de los pedidos son diferentes entre los dos grupos."
   ]
  },
  {
   "cell_type": "code",
   "execution_count": 23,
   "metadata": {},
   "outputs": [
    {
     "name": "stdout",
     "output_type": "stream",
     "text": [
      "Estadístico t de prueba: -0.8345\n",
      "P-valor (Prueba t): 0.4043\n",
      "Estadístico U de Mann-Whitney: 129041.5000\n",
      "P-valor (Mann-Whitney U): 0.8622\n"
     ]
    }
   ],
   "source": [
    "# Resultados\n",
    "print(f'Estadístico t de prueba: {t_stat:.4f}')\n",
    "print(f'P-valor (Prueba t): {pval:.4f}')\n",
    "print(f'Estadístico U de Mann-Whitney: {u_stat:.4f}')\n",
    "print(f'P-valor (Mann-Whitney U): {p_value:.4f}')"
   ]
  },
  {
   "cell_type": "markdown",
   "metadata": {},
   "source": [
    "# Interpretación de los Resultados:\n",
    "\n",
    "Prueba t de Student:\n",
    "\n",
    "Estadístico t de prueba: -0.8345. El valor negativo del estadístico t sugiere que, en promedio, el tamaño de los pedidos en el grupo B es ligeramente mayor que en el grupo A. Sin embargo, la magnitud de la diferencia es pequeña.\n",
    "\n",
    "El p-valor de 0.4043 es significativamente mayor que el umbral comúnmente usado de 0.05. Esto indica que no hay suficiente evidencia para rechazar la hipótesis nula. En otras palabras, la diferencia en el tamaño promedio de los pedidos entre los grupos A y B no es estadísticamente significativa.\n",
    "\n",
    "Estadístico U de Mann-Whitney: 129041.5000\n",
    "Este valor no tiene una interpretación directa como en la prueba t, pero se usa para calcular el p-valor.\n",
    "\n",
    "Un p-valor de 0.8622, mucho mayor que 0.05, también sugiere que no hay evidencia suficiente para rechazar la hipótesis nula. Esto significa que no se encontró una diferencia significativa en la distribución del tamaño de los pedidos entre los dos grupos.\n",
    "\n",
    "# Conclusiones:\n",
    "\n",
    "Ambos métodos de prueba (t de Student y Mann-Whitney U) indican que no existe una diferencia estadísticamente significativa en el tamaño promedio de los pedidos entre los grupos A y B.\n",
    "\n",
    "No se rechaza la hipótesis nula, lo que sugiere que cualquier diferencia observada en los tamaños de los pedidos podría deberse al azar más que a algún efecto real entre los grupos.\n",
    "\n",
    "La falta de diferencias significativas sugiere que, desde la perspectiva del tamaño promedio de los pedidos, las intervenciones o estrategias aplicadas a los grupos A y B no generaron un impacto distinto. Se podría considerar la posibilidad de experimentar con otras variables o estrategias que podrían tener un impacto más significativo en el tamaño de los pedidos. Alternativamente, podría ser útil examinar otros aspectos del comportamiento del cliente o del negocio que podrían ser más sensibles a las intervenciones."
   ]
  },
  {
   "cell_type": "markdown",
   "metadata": {},
   "source": [
    "# Decisión: No hay diferencia entre los grupos.\n",
    "\n",
    "Ambos métodos de prueba coinciden en que no se observan diferencias significativas entre los grupos, lo cual es un indicativo sólido de que las diferencias observadas en los datos son probablemente atribuibles al azar.\n",
    "\n",
    "Continuar con la prueba o considerar a uno de los grupos como líder no estaría justificado dado que no se ha demostrado que uno de los grupos sea superior al otro en términos del tamaño promedio de los pedidos.\n",
    "\n",
    "Concluir que no hay diferencia entre los grupos implica que, desde la perspectiva de los datos actuales, las estrategias o intervenciones aplicadas a los grupos no han tenido un efecto diferenciado. No se necesita continuar la prueba ni seleccionar un grupo como líder.\n",
    "\n",
    "En resumen, los datos no respaldan la existencia de una diferencia significativa entre los grupos A y B en cuanto al tamaño promedio de los pedidos. Por lo tanto, la prueba debería concluir con la afirmación de que no hay diferencias entre los grupos."
   ]
  }
 ],
 "metadata": {
  "ExecuteTimeLog": [
   {
    "duration": 4882,
    "start_time": "2024-08-18T15:03:14.599Z"
   },
   {
    "duration": 19,
    "start_time": "2024-08-18T15:04:18.955Z"
   },
   {
    "duration": 46,
    "start_time": "2024-08-18T15:07:32.215Z"
   },
   {
    "duration": 4673,
    "start_time": "2024-08-19T13:48:51.865Z"
   },
   {
    "duration": 52,
    "start_time": "2024-08-19T13:48:56.542Z"
   },
   {
    "duration": 37,
    "start_time": "2024-08-19T13:53:13.312Z"
   },
   {
    "duration": 39,
    "start_time": "2024-08-19T13:53:48.057Z"
   },
   {
    "duration": 38,
    "start_time": "2024-08-19T14:01:35.033Z"
   },
   {
    "duration": 39,
    "start_time": "2024-08-19T14:01:54.263Z"
   },
   {
    "duration": 39,
    "start_time": "2024-08-19T14:02:02.029Z"
   },
   {
    "duration": 44,
    "start_time": "2024-08-19T14:03:06.900Z"
   },
   {
    "duration": 43,
    "start_time": "2024-08-19T14:10:18.118Z"
   },
   {
    "duration": 9,
    "start_time": "2024-08-19T14:17:59.895Z"
   },
   {
    "duration": 27,
    "start_time": "2024-08-19T14:19:03.825Z"
   },
   {
    "duration": 25,
    "start_time": "2024-08-19T14:22:19.976Z"
   },
   {
    "duration": 27,
    "start_time": "2024-08-19T14:23:07.385Z"
   },
   {
    "duration": 1130,
    "start_time": "2024-08-19T14:23:34.318Z"
   },
   {
    "duration": 49,
    "start_time": "2024-08-19T14:23:35.453Z"
   },
   {
    "duration": 22,
    "start_time": "2024-08-19T14:23:35.505Z"
   },
   {
    "duration": 29,
    "start_time": "2024-08-19T14:23:35.533Z"
   },
   {
    "duration": 56,
    "start_time": "2024-08-19T14:23:35.566Z"
   },
   {
    "duration": 20,
    "start_time": "2024-08-19T14:24:37.362Z"
   },
   {
    "duration": 25,
    "start_time": "2024-08-19T14:24:39.394Z"
   },
   {
    "duration": 27,
    "start_time": "2024-08-19T14:24:41.972Z"
   },
   {
    "duration": 19,
    "start_time": "2024-08-19T14:24:57.110Z"
   },
   {
    "duration": 25,
    "start_time": "2024-08-19T14:29:52.922Z"
   },
   {
    "duration": 1217,
    "start_time": "2024-08-19T14:38:00.252Z"
   },
   {
    "duration": 33,
    "start_time": "2024-08-19T14:38:29.755Z"
   },
   {
    "duration": 15,
    "start_time": "2024-08-19T14:38:37.467Z"
   },
   {
    "duration": 6,
    "start_time": "2024-08-19T14:39:55.742Z"
   },
   {
    "duration": 16,
    "start_time": "2024-08-19T14:40:00.955Z"
   },
   {
    "duration": 13,
    "start_time": "2024-08-19T14:44:20.646Z"
   },
   {
    "duration": 23,
    "start_time": "2024-08-19T14:46:49.828Z"
   },
   {
    "duration": 32,
    "start_time": "2024-08-19T14:47:01.805Z"
   },
   {
    "duration": 28,
    "start_time": "2024-08-19T14:47:27.215Z"
   },
   {
    "duration": 27,
    "start_time": "2024-08-19T14:47:37.947Z"
   },
   {
    "duration": 19,
    "start_time": "2024-08-19T14:51:49.553Z"
   },
   {
    "duration": 28,
    "start_time": "2024-08-19T14:51:54.197Z"
   },
   {
    "duration": 32,
    "start_time": "2024-08-19T14:51:57.919Z"
   },
   {
    "duration": 26,
    "start_time": "2024-08-19T14:52:10.063Z"
   },
   {
    "duration": 408,
    "start_time": "2024-08-19T15:15:15.724Z"
   },
   {
    "duration": 73,
    "start_time": "2024-08-19T15:15:50.035Z"
   },
   {
    "duration": 14,
    "start_time": "2024-08-19T15:19:40.755Z"
   },
   {
    "duration": 26,
    "start_time": "2024-08-19T15:19:47.513Z"
   },
   {
    "duration": 1270,
    "start_time": "2024-08-19T15:19:55.206Z"
   },
   {
    "duration": 61,
    "start_time": "2024-08-19T15:19:56.481Z"
   },
   {
    "duration": 706,
    "start_time": "2024-08-19T15:19:56.545Z"
   },
   {
    "duration": 0,
    "start_time": "2024-08-19T15:19:57.254Z"
   },
   {
    "duration": 0,
    "start_time": "2024-08-19T15:19:57.256Z"
   },
   {
    "duration": 0,
    "start_time": "2024-08-19T15:19:57.258Z"
   },
   {
    "duration": 0,
    "start_time": "2024-08-19T15:19:57.261Z"
   },
   {
    "duration": 0,
    "start_time": "2024-08-19T15:19:57.263Z"
   },
   {
    "duration": 0,
    "start_time": "2024-08-19T15:19:57.265Z"
   },
   {
    "duration": 14,
    "start_time": "2024-08-19T15:21:17.275Z"
   },
   {
    "duration": 27,
    "start_time": "2024-08-19T15:21:23.099Z"
   },
   {
    "duration": 28,
    "start_time": "2024-08-19T15:21:30.098Z"
   },
   {
    "duration": 25,
    "start_time": "2024-08-19T15:21:37.552Z"
   },
   {
    "duration": 20,
    "start_time": "2024-08-19T15:27:07.544Z"
   },
   {
    "duration": 16,
    "start_time": "2024-08-19T15:27:12.555Z"
   },
   {
    "duration": 14,
    "start_time": "2024-08-19T15:27:22.042Z"
   },
   {
    "duration": 19,
    "start_time": "2024-08-19T15:41:58.093Z"
   },
   {
    "duration": 319,
    "start_time": "2024-08-19T15:42:22.328Z"
   },
   {
    "duration": 312,
    "start_time": "2024-08-19T15:45:16.997Z"
   },
   {
    "duration": 1025,
    "start_time": "2024-08-19T15:45:41.684Z"
   },
   {
    "duration": 295,
    "start_time": "2024-08-19T15:45:49.717Z"
   },
   {
    "duration": 312,
    "start_time": "2024-08-19T15:46:47.400Z"
   },
   {
    "duration": 282,
    "start_time": "2024-08-19T15:47:53.780Z"
   },
   {
    "duration": 27,
    "start_time": "2024-08-19T15:48:24.487Z"
   },
   {
    "duration": 308,
    "start_time": "2024-08-19T15:48:57.502Z"
   },
   {
    "duration": 339,
    "start_time": "2024-08-19T15:49:14.835Z"
   },
   {
    "duration": 19,
    "start_time": "2024-08-19T15:49:44.867Z"
   },
   {
    "duration": 23,
    "start_time": "2024-08-19T15:50:07.326Z"
   },
   {
    "duration": 468,
    "start_time": "2024-08-19T15:50:29.777Z"
   },
   {
    "duration": 420,
    "start_time": "2024-08-19T15:51:10.030Z"
   },
   {
    "duration": 75,
    "start_time": "2024-08-19T15:52:19.785Z"
   },
   {
    "duration": 29,
    "start_time": "2024-08-19T15:52:32.930Z"
   },
   {
    "duration": 321,
    "start_time": "2024-08-19T15:52:48.699Z"
   },
   {
    "duration": 467,
    "start_time": "2024-08-19T15:53:06.207Z"
   },
   {
    "duration": 671,
    "start_time": "2024-08-19T15:54:14.167Z"
   },
   {
    "duration": 15,
    "start_time": "2024-08-19T15:54:28.450Z"
   },
   {
    "duration": 633,
    "start_time": "2024-08-19T15:54:46.149Z"
   },
   {
    "duration": 216,
    "start_time": "2024-08-19T15:55:00.760Z"
   },
   {
    "duration": 8,
    "start_time": "2024-08-19T15:55:52.860Z"
   },
   {
    "duration": 261,
    "start_time": "2024-08-19T15:56:22.712Z"
   },
   {
    "duration": 7,
    "start_time": "2024-08-19T15:58:32.555Z"
   },
   {
    "duration": 23,
    "start_time": "2024-08-19T16:00:50.228Z"
   },
   {
    "duration": 5083,
    "start_time": "2024-08-20T13:16:37.552Z"
   },
   {
    "duration": 63,
    "start_time": "2024-08-20T13:16:45.056Z"
   },
   {
    "duration": 12,
    "start_time": "2024-08-20T13:16:50.500Z"
   },
   {
    "duration": 28,
    "start_time": "2024-08-20T13:17:02.524Z"
   },
   {
    "duration": 26,
    "start_time": "2024-08-20T13:17:05.498Z"
   },
   {
    "duration": 27,
    "start_time": "2024-08-20T13:17:08.639Z"
   },
   {
    "duration": 18,
    "start_time": "2024-08-20T13:19:01.023Z"
   },
   {
    "duration": 401,
    "start_time": "2024-08-20T13:20:00.105Z"
   },
   {
    "duration": 9,
    "start_time": "2024-08-20T13:20:49.533Z"
   },
   {
    "duration": 11,
    "start_time": "2024-08-20T13:21:10.147Z"
   },
   {
    "duration": 14,
    "start_time": "2024-08-20T13:21:30.496Z"
   },
   {
    "duration": 21,
    "start_time": "2024-08-20T13:23:20.988Z"
   },
   {
    "duration": 15,
    "start_time": "2024-08-20T13:23:25.074Z"
   },
   {
    "duration": 14,
    "start_time": "2024-08-20T13:23:33.439Z"
   },
   {
    "duration": 21,
    "start_time": "2024-08-20T13:23:58.539Z"
   },
   {
    "duration": 377,
    "start_time": "2024-08-20T13:24:05.202Z"
   },
   {
    "duration": 22,
    "start_time": "2024-08-20T13:24:11.719Z"
   },
   {
    "duration": 20,
    "start_time": "2024-08-20T13:24:15.548Z"
   },
   {
    "duration": 1162,
    "start_time": "2024-08-20T13:24:26.407Z"
   },
   {
    "duration": 41,
    "start_time": "2024-08-20T13:24:27.574Z"
   },
   {
    "duration": 13,
    "start_time": "2024-08-20T13:24:27.623Z"
   },
   {
    "duration": 28,
    "start_time": "2024-08-20T13:24:27.639Z"
   },
   {
    "duration": 64,
    "start_time": "2024-08-20T13:24:27.672Z"
   },
   {
    "duration": 28,
    "start_time": "2024-08-20T13:24:27.739Z"
   },
   {
    "duration": 21,
    "start_time": "2024-08-20T13:24:27.770Z"
   },
   {
    "duration": 14,
    "start_time": "2024-08-20T13:24:27.825Z"
   },
   {
    "duration": 15,
    "start_time": "2024-08-20T13:24:27.842Z"
   },
   {
    "duration": 16,
    "start_time": "2024-08-20T13:24:27.860Z"
   },
   {
    "duration": 54,
    "start_time": "2024-08-20T13:24:27.879Z"
   },
   {
    "duration": 21,
    "start_time": "2024-08-20T13:24:27.937Z"
   },
   {
    "duration": 402,
    "start_time": "2024-08-20T13:24:27.961Z"
   },
   {
    "duration": 21,
    "start_time": "2024-08-20T13:24:28.370Z"
   },
   {
    "duration": 331,
    "start_time": "2024-08-20T13:24:28.394Z"
   },
   {
    "duration": 22,
    "start_time": "2024-08-20T13:24:28.729Z"
   },
   {
    "duration": 435,
    "start_time": "2024-08-20T13:24:28.755Z"
   },
   {
    "duration": 42,
    "start_time": "2024-08-20T13:24:29.193Z"
   },
   {
    "duration": 347,
    "start_time": "2024-08-20T13:24:29.238Z"
   },
   {
    "duration": 15,
    "start_time": "2024-08-20T13:24:29.588Z"
   },
   {
    "duration": 338,
    "start_time": "2024-08-20T13:24:29.623Z"
   },
   {
    "duration": 9,
    "start_time": "2024-08-20T13:24:29.963Z"
   },
   {
    "duration": 282,
    "start_time": "2024-08-20T13:24:29.975Z"
   },
   {
    "duration": 9,
    "start_time": "2024-08-20T13:24:30.260Z"
   },
   {
    "duration": 51,
    "start_time": "2024-08-20T13:24:30.272Z"
   },
   {
    "duration": 696,
    "start_time": "2024-08-20T13:30:41.023Z"
   },
   {
    "duration": 13,
    "start_time": "2024-08-20T13:31:03.002Z"
   },
   {
    "duration": 25,
    "start_time": "2024-08-20T13:31:25.498Z"
   },
   {
    "duration": 28,
    "start_time": "2024-08-20T13:31:28.727Z"
   },
   {
    "duration": 24,
    "start_time": "2024-08-20T13:31:31.781Z"
   },
   {
    "duration": 4,
    "start_time": "2024-08-20T13:31:48.472Z"
   },
   {
    "duration": 39,
    "start_time": "2024-08-20T13:32:15.780Z"
   },
   {
    "duration": 189,
    "start_time": "2024-08-20T13:33:04.834Z"
   },
   {
    "duration": 208,
    "start_time": "2024-08-20T13:34:29.331Z"
   },
   {
    "duration": 129,
    "start_time": "2024-08-20T13:35:51.454Z"
   },
   {
    "duration": 40,
    "start_time": "2024-08-20T13:36:30.002Z"
   },
   {
    "duration": 118,
    "start_time": "2024-08-20T13:36:35.390Z"
   },
   {
    "duration": 1170,
    "start_time": "2024-08-20T13:38:12.401Z"
   },
   {
    "duration": 40,
    "start_time": "2024-08-20T13:38:13.575Z"
   },
   {
    "duration": 861,
    "start_time": "2024-08-20T13:38:13.618Z"
   },
   {
    "duration": 0,
    "start_time": "2024-08-20T13:38:14.484Z"
   },
   {
    "duration": 0,
    "start_time": "2024-08-20T13:38:14.485Z"
   },
   {
    "duration": 0,
    "start_time": "2024-08-20T13:38:14.487Z"
   },
   {
    "duration": 0,
    "start_time": "2024-08-20T13:38:14.489Z"
   },
   {
    "duration": 0,
    "start_time": "2024-08-20T13:38:14.492Z"
   },
   {
    "duration": 0,
    "start_time": "2024-08-20T13:38:14.494Z"
   },
   {
    "duration": 0,
    "start_time": "2024-08-20T13:38:14.495Z"
   },
   {
    "duration": 0,
    "start_time": "2024-08-20T13:38:14.497Z"
   },
   {
    "duration": 0,
    "start_time": "2024-08-20T13:38:14.523Z"
   },
   {
    "duration": 0,
    "start_time": "2024-08-20T13:38:14.526Z"
   },
   {
    "duration": 0,
    "start_time": "2024-08-20T13:38:14.528Z"
   },
   {
    "duration": 0,
    "start_time": "2024-08-20T13:38:14.530Z"
   },
   {
    "duration": 0,
    "start_time": "2024-08-20T13:38:14.533Z"
   },
   {
    "duration": 0,
    "start_time": "2024-08-20T13:38:14.535Z"
   },
   {
    "duration": 0,
    "start_time": "2024-08-20T13:38:14.538Z"
   },
   {
    "duration": 0,
    "start_time": "2024-08-20T13:38:14.540Z"
   },
   {
    "duration": 0,
    "start_time": "2024-08-20T13:38:14.542Z"
   },
   {
    "duration": 0,
    "start_time": "2024-08-20T13:38:14.544Z"
   },
   {
    "duration": 0,
    "start_time": "2024-08-20T13:38:14.547Z"
   },
   {
    "duration": 0,
    "start_time": "2024-08-20T13:38:14.550Z"
   },
   {
    "duration": 0,
    "start_time": "2024-08-20T13:38:14.553Z"
   },
   {
    "duration": 0,
    "start_time": "2024-08-20T13:38:14.559Z"
   },
   {
    "duration": 28,
    "start_time": "2024-08-20T13:38:56.411Z"
   },
   {
    "duration": 4,
    "start_time": "2024-08-20T13:39:13.511Z"
   },
   {
    "duration": 39,
    "start_time": "2024-08-20T13:39:15.860Z"
   },
   {
    "duration": 28,
    "start_time": "2024-08-20T13:39:25.099Z"
   },
   {
    "duration": 27,
    "start_time": "2024-08-20T13:39:28.613Z"
   },
   {
    "duration": 29,
    "start_time": "2024-08-20T13:39:36.012Z"
   },
   {
    "duration": 24,
    "start_time": "2024-08-20T13:39:51.566Z"
   },
   {
    "duration": 18,
    "start_time": "2024-08-20T13:40:21.404Z"
   },
   {
    "duration": 30,
    "start_time": "2024-08-20T13:40:28.765Z"
   },
   {
    "duration": 14,
    "start_time": "2024-08-20T13:40:35.023Z"
   },
   {
    "duration": 21,
    "start_time": "2024-08-20T13:40:46.865Z"
   },
   {
    "duration": 15,
    "start_time": "2024-08-20T13:40:55.105Z"
   },
   {
    "duration": 13,
    "start_time": "2024-08-20T13:41:17.584Z"
   },
   {
    "duration": 21,
    "start_time": "2024-08-20T13:42:08.235Z"
   },
   {
    "duration": 366,
    "start_time": "2024-08-20T13:42:14.065Z"
   },
   {
    "duration": 22,
    "start_time": "2024-08-20T13:45:25.398Z"
   },
   {
    "duration": 336,
    "start_time": "2024-08-20T13:45:39.832Z"
   },
   {
    "duration": 20,
    "start_time": "2024-08-20T13:45:57.564Z"
   },
   {
    "duration": 436,
    "start_time": "2024-08-20T13:46:04.138Z"
   },
   {
    "duration": 34,
    "start_time": "2024-08-20T13:46:12.474Z"
   },
   {
    "duration": 31,
    "start_time": "2024-08-20T13:47:01.863Z"
   },
   {
    "duration": 326,
    "start_time": "2024-08-20T13:47:12.997Z"
   },
   {
    "duration": 13,
    "start_time": "2024-08-20T13:47:33.215Z"
   },
   {
    "duration": 246,
    "start_time": "2024-08-20T13:47:37.336Z"
   },
   {
    "duration": 8,
    "start_time": "2024-08-20T13:49:51.265Z"
   },
   {
    "duration": 234,
    "start_time": "2024-08-20T13:49:54.545Z"
   },
   {
    "duration": 8,
    "start_time": "2024-08-20T13:50:13.589Z"
   },
   {
    "duration": 21,
    "start_time": "2024-08-20T13:50:25.880Z"
   },
   {
    "duration": 32,
    "start_time": "2024-08-20T13:58:17.540Z"
   },
   {
    "duration": 1171,
    "start_time": "2024-08-20T13:58:28.614Z"
   },
   {
    "duration": 57,
    "start_time": "2024-08-20T13:58:29.790Z"
   },
   {
    "duration": 29,
    "start_time": "2024-08-20T13:58:29.850Z"
   },
   {
    "duration": 51,
    "start_time": "2024-08-20T13:58:29.882Z"
   },
   {
    "duration": 29,
    "start_time": "2024-08-20T13:58:29.938Z"
   },
   {
    "duration": 62,
    "start_time": "2024-08-20T13:58:29.969Z"
   },
   {
    "duration": 18,
    "start_time": "2024-08-20T13:58:30.038Z"
   },
   {
    "duration": 13,
    "start_time": "2024-08-20T13:58:30.059Z"
   },
   {
    "duration": 49,
    "start_time": "2024-08-20T13:58:30.075Z"
   },
   {
    "duration": 15,
    "start_time": "2024-08-20T13:58:30.128Z"
   },
   {
    "duration": 16,
    "start_time": "2024-08-20T13:58:30.146Z"
   },
   {
    "duration": 59,
    "start_time": "2024-08-20T13:58:30.165Z"
   },
   {
    "duration": 413,
    "start_time": "2024-08-20T13:58:30.227Z"
   },
   {
    "duration": 0,
    "start_time": "2024-08-20T13:58:30.644Z"
   },
   {
    "duration": 0,
    "start_time": "2024-08-20T13:58:30.646Z"
   },
   {
    "duration": 0,
    "start_time": "2024-08-20T13:58:30.648Z"
   },
   {
    "duration": 0,
    "start_time": "2024-08-20T13:58:30.650Z"
   },
   {
    "duration": 0,
    "start_time": "2024-08-20T13:58:30.653Z"
   },
   {
    "duration": 0,
    "start_time": "2024-08-20T13:58:30.655Z"
   },
   {
    "duration": 0,
    "start_time": "2024-08-20T13:58:30.657Z"
   },
   {
    "duration": 0,
    "start_time": "2024-08-20T13:58:30.659Z"
   },
   {
    "duration": 0,
    "start_time": "2024-08-20T13:58:30.660Z"
   },
   {
    "duration": 0,
    "start_time": "2024-08-20T13:58:30.662Z"
   },
   {
    "duration": 0,
    "start_time": "2024-08-20T13:58:30.665Z"
   },
   {
    "duration": 0,
    "start_time": "2024-08-20T13:58:30.667Z"
   },
   {
    "duration": 422,
    "start_time": "2024-08-20T13:59:22.001Z"
   },
   {
    "duration": 23,
    "start_time": "2024-08-20T13:59:28.525Z"
   },
   {
    "duration": 315,
    "start_time": "2024-08-20T13:59:32.726Z"
   },
   {
    "duration": 22,
    "start_time": "2024-08-20T13:59:37.110Z"
   },
   {
    "duration": 434,
    "start_time": "2024-08-20T13:59:39.749Z"
   },
   {
    "duration": 33,
    "start_time": "2024-08-20T13:59:44.932Z"
   },
   {
    "duration": 331,
    "start_time": "2024-08-20T13:59:48.180Z"
   },
   {
    "duration": 13,
    "start_time": "2024-08-20T13:59:52.604Z"
   },
   {
    "duration": 240,
    "start_time": "2024-08-20T13:59:55.339Z"
   },
   {
    "duration": 8,
    "start_time": "2024-08-20T14:00:07.596Z"
   },
   {
    "duration": 239,
    "start_time": "2024-08-20T14:00:16.795Z"
   },
   {
    "duration": 594,
    "start_time": "2024-08-20T15:13:28.940Z"
   },
   {
    "duration": 7,
    "start_time": "2024-08-20T15:13:50.528Z"
   },
   {
    "duration": 40,
    "start_time": "2024-08-20T15:13:53.115Z"
   },
   {
    "duration": 26,
    "start_time": "2024-08-20T15:13:56.288Z"
   },
   {
    "duration": 26,
    "start_time": "2024-08-20T15:13:59.027Z"
   },
   {
    "duration": 25,
    "start_time": "2024-08-20T15:14:01.660Z"
   },
   {
    "duration": 19,
    "start_time": "2024-08-20T15:14:04.805Z"
   },
   {
    "duration": 13,
    "start_time": "2024-08-20T15:14:08.012Z"
   },
   {
    "duration": 19,
    "start_time": "2024-08-20T15:14:11.202Z"
   },
   {
    "duration": 18,
    "start_time": "2024-08-20T15:14:14.337Z"
   },
   {
    "duration": 13,
    "start_time": "2024-08-20T15:14:18.148Z"
   },
   {
    "duration": 287,
    "start_time": "2024-08-20T15:14:24.439Z"
   },
   {
    "duration": 1123,
    "start_time": "2024-08-20T15:18:24.455Z"
   },
   {
    "duration": 44,
    "start_time": "2024-08-20T15:18:25.582Z"
   },
   {
    "duration": 28,
    "start_time": "2024-08-20T15:18:25.630Z"
   },
   {
    "duration": 61,
    "start_time": "2024-08-20T15:18:25.661Z"
   },
   {
    "duration": 32,
    "start_time": "2024-08-20T15:18:25.728Z"
   },
   {
    "duration": 59,
    "start_time": "2024-08-20T15:18:25.763Z"
   },
   {
    "duration": 18,
    "start_time": "2024-08-20T15:18:25.826Z"
   },
   {
    "duration": 15,
    "start_time": "2024-08-20T15:18:25.847Z"
   },
   {
    "duration": 15,
    "start_time": "2024-08-20T15:18:25.865Z"
   },
   {
    "duration": 52,
    "start_time": "2024-08-20T15:18:25.883Z"
   },
   {
    "duration": 14,
    "start_time": "2024-08-20T15:18:25.938Z"
   },
   {
    "duration": 1168,
    "start_time": "2024-08-20T15:18:25.956Z"
   },
   {
    "duration": 0,
    "start_time": "2024-08-20T15:18:27.128Z"
   },
   {
    "duration": 0,
    "start_time": "2024-08-20T15:18:27.131Z"
   },
   {
    "duration": 0,
    "start_time": "2024-08-20T15:18:27.133Z"
   },
   {
    "duration": 0,
    "start_time": "2024-08-20T15:18:27.136Z"
   },
   {
    "duration": 0,
    "start_time": "2024-08-20T15:18:27.138Z"
   },
   {
    "duration": 0,
    "start_time": "2024-08-20T15:18:27.140Z"
   },
   {
    "duration": 0,
    "start_time": "2024-08-20T15:18:27.143Z"
   },
   {
    "duration": 0,
    "start_time": "2024-08-20T15:18:27.145Z"
   },
   {
    "duration": 0,
    "start_time": "2024-08-20T15:18:27.147Z"
   },
   {
    "duration": 0,
    "start_time": "2024-08-20T15:18:27.149Z"
   },
   {
    "duration": 0,
    "start_time": "2024-08-20T15:18:27.151Z"
   },
   {
    "duration": 0,
    "start_time": "2024-08-20T15:18:27.152Z"
   },
   {
    "duration": 0,
    "start_time": "2024-08-20T15:18:27.155Z"
   },
   {
    "duration": 0,
    "start_time": "2024-08-20T15:18:27.157Z"
   },
   {
    "duration": 148,
    "start_time": "2024-08-20T15:19:52.445Z"
   },
   {
    "duration": 495,
    "start_time": "2024-08-20T15:20:31.354Z"
   },
   {
    "duration": 19,
    "start_time": "2024-08-20T15:23:22.052Z"
   },
   {
    "duration": 360,
    "start_time": "2024-08-20T15:23:28.855Z"
   },
   {
    "duration": 269,
    "start_time": "2024-08-20T15:25:25.943Z"
   },
   {
    "duration": 409,
    "start_time": "2024-08-20T15:28:36.412Z"
   },
   {
    "duration": 347,
    "start_time": "2024-08-20T15:28:57.799Z"
   },
   {
    "duration": 333,
    "start_time": "2024-08-20T15:29:15.004Z"
   },
   {
    "duration": 30,
    "start_time": "2024-08-20T15:37:24.842Z"
   },
   {
    "duration": 266,
    "start_time": "2024-08-20T15:37:30.193Z"
   },
   {
    "duration": 327,
    "start_time": "2024-08-20T15:37:39.485Z"
   },
   {
    "duration": 308,
    "start_time": "2024-08-20T15:52:09.280Z"
   },
   {
    "duration": 324,
    "start_time": "2024-08-20T15:52:50.041Z"
   },
   {
    "duration": 312,
    "start_time": "2024-08-20T15:52:56.351Z"
   },
   {
    "duration": 34,
    "start_time": "2024-08-20T16:00:02.569Z"
   },
   {
    "duration": 353,
    "start_time": "2024-08-20T16:00:40.697Z"
   },
   {
    "duration": 21,
    "start_time": "2024-08-20T16:07:15.540Z"
   },
   {
    "duration": 424,
    "start_time": "2024-08-20T16:07:18.180Z"
   },
   {
    "duration": 311,
    "start_time": "2024-08-20T16:12:04.869Z"
   },
   {
    "duration": 355,
    "start_time": "2024-08-20T16:16:40.498Z"
   },
   {
    "duration": 628,
    "start_time": "2024-08-20T16:19:48.527Z"
   },
   {
    "duration": 400,
    "start_time": "2024-08-20T16:22:14.141Z"
   },
   {
    "duration": 437,
    "start_time": "2024-08-20T16:23:42.189Z"
   },
   {
    "duration": 407,
    "start_time": "2024-08-20T16:24:03.852Z"
   },
   {
    "duration": 1202,
    "start_time": "2024-08-20T16:26:05.110Z"
   },
   {
    "duration": 47,
    "start_time": "2024-08-20T16:26:06.317Z"
   },
   {
    "duration": 27,
    "start_time": "2024-08-20T16:26:06.367Z"
   },
   {
    "duration": 48,
    "start_time": "2024-08-20T16:26:06.396Z"
   },
   {
    "duration": 28,
    "start_time": "2024-08-20T16:26:06.449Z"
   },
   {
    "duration": 52,
    "start_time": "2024-08-20T16:26:06.480Z"
   },
   {
    "duration": 19,
    "start_time": "2024-08-20T16:26:06.535Z"
   },
   {
    "duration": 14,
    "start_time": "2024-08-20T16:26:06.557Z"
   },
   {
    "duration": 59,
    "start_time": "2024-08-20T16:26:06.574Z"
   },
   {
    "duration": 17,
    "start_time": "2024-08-20T16:26:06.635Z"
   },
   {
    "duration": 15,
    "start_time": "2024-08-20T16:26:06.655Z"
   },
   {
    "duration": 466,
    "start_time": "2024-08-20T16:26:06.673Z"
   },
   {
    "duration": 418,
    "start_time": "2024-08-20T16:26:07.142Z"
   },
   {
    "duration": 0,
    "start_time": "2024-08-20T16:26:07.564Z"
   },
   {
    "duration": 0,
    "start_time": "2024-08-20T16:26:07.565Z"
   },
   {
    "duration": 0,
    "start_time": "2024-08-20T16:26:07.567Z"
   },
   {
    "duration": 0,
    "start_time": "2024-08-20T16:26:07.570Z"
   },
   {
    "duration": 0,
    "start_time": "2024-08-20T16:26:07.573Z"
   },
   {
    "duration": 0,
    "start_time": "2024-08-20T16:26:07.576Z"
   },
   {
    "duration": 0,
    "start_time": "2024-08-20T16:26:07.578Z"
   },
   {
    "duration": 0,
    "start_time": "2024-08-20T16:26:07.580Z"
   },
   {
    "duration": 0,
    "start_time": "2024-08-20T16:26:07.583Z"
   },
   {
    "duration": 0,
    "start_time": "2024-08-20T16:26:07.622Z"
   },
   {
    "duration": 0,
    "start_time": "2024-08-20T16:26:07.624Z"
   },
   {
    "duration": 0,
    "start_time": "2024-08-20T16:26:07.626Z"
   },
   {
    "duration": 0,
    "start_time": "2024-08-20T16:26:07.628Z"
   },
   {
    "duration": 0,
    "start_time": "2024-08-20T16:26:07.630Z"
   },
   {
    "duration": 467,
    "start_time": "2024-08-20T16:27:44.893Z"
   },
   {
    "duration": 31,
    "start_time": "2024-08-20T16:27:49.973Z"
   },
   {
    "duration": 438,
    "start_time": "2024-08-20T16:28:55.945Z"
   },
   {
    "duration": 31,
    "start_time": "2024-08-20T16:29:04.948Z"
   },
   {
    "duration": 413,
    "start_time": "2024-08-20T16:29:18.295Z"
   },
   {
    "duration": 843,
    "start_time": "2024-08-20T16:29:21.337Z"
   },
   {
    "duration": 25,
    "start_time": "2024-08-20T16:30:43.996Z"
   },
   {
    "duration": 282,
    "start_time": "2024-08-20T16:31:17.864Z"
   },
   {
    "duration": 359,
    "start_time": "2024-08-20T16:32:09.735Z"
   },
   {
    "duration": 332,
    "start_time": "2024-08-20T16:32:27.360Z"
   },
   {
    "duration": 1123,
    "start_time": "2024-08-20T16:32:49.783Z"
   },
   {
    "duration": 45,
    "start_time": "2024-08-20T16:32:50.912Z"
   },
   {
    "duration": 28,
    "start_time": "2024-08-20T16:32:50.960Z"
   },
   {
    "duration": 52,
    "start_time": "2024-08-20T16:32:50.992Z"
   },
   {
    "duration": 29,
    "start_time": "2024-08-20T16:32:51.047Z"
   },
   {
    "duration": 63,
    "start_time": "2024-08-20T16:32:51.079Z"
   },
   {
    "duration": 22,
    "start_time": "2024-08-20T16:32:51.145Z"
   },
   {
    "duration": 15,
    "start_time": "2024-08-20T16:32:51.169Z"
   },
   {
    "duration": 15,
    "start_time": "2024-08-20T16:32:51.222Z"
   },
   {
    "duration": 19,
    "start_time": "2024-08-20T16:32:51.244Z"
   },
   {
    "duration": 14,
    "start_time": "2024-08-20T16:32:51.266Z"
   },
   {
    "duration": 487,
    "start_time": "2024-08-20T16:32:51.283Z"
   },
   {
    "duration": 355,
    "start_time": "2024-08-20T16:32:51.775Z"
   },
   {
    "duration": 329,
    "start_time": "2024-08-20T16:32:52.132Z"
   },
   {
    "duration": 476,
    "start_time": "2024-08-20T16:32:52.464Z"
   },
   {
    "duration": 0,
    "start_time": "2024-08-20T16:32:52.943Z"
   },
   {
    "duration": 0,
    "start_time": "2024-08-20T16:32:52.945Z"
   },
   {
    "duration": 0,
    "start_time": "2024-08-20T16:32:52.948Z"
   },
   {
    "duration": 1,
    "start_time": "2024-08-20T16:32:52.950Z"
   },
   {
    "duration": 0,
    "start_time": "2024-08-20T16:32:52.953Z"
   },
   {
    "duration": 0,
    "start_time": "2024-08-20T16:32:52.955Z"
   },
   {
    "duration": 0,
    "start_time": "2024-08-20T16:32:52.957Z"
   },
   {
    "duration": 0,
    "start_time": "2024-08-20T16:32:52.959Z"
   },
   {
    "duration": 0,
    "start_time": "2024-08-20T16:32:52.962Z"
   },
   {
    "duration": 0,
    "start_time": "2024-08-20T16:32:52.964Z"
   },
   {
    "duration": 0,
    "start_time": "2024-08-20T16:32:52.967Z"
   },
   {
    "duration": 0,
    "start_time": "2024-08-20T16:32:52.969Z"
   },
   {
    "duration": 1167,
    "start_time": "2024-08-20T16:34:39.739Z"
   },
   {
    "duration": 49,
    "start_time": "2024-08-20T16:34:40.912Z"
   },
   {
    "duration": 27,
    "start_time": "2024-08-20T16:34:40.964Z"
   },
   {
    "duration": 44,
    "start_time": "2024-08-20T16:34:40.995Z"
   },
   {
    "duration": 27,
    "start_time": "2024-08-20T16:34:41.042Z"
   },
   {
    "duration": 62,
    "start_time": "2024-08-20T16:34:41.072Z"
   },
   {
    "duration": 25,
    "start_time": "2024-08-20T16:34:41.138Z"
   },
   {
    "duration": 14,
    "start_time": "2024-08-20T16:34:41.166Z"
   },
   {
    "duration": 49,
    "start_time": "2024-08-20T16:34:41.184Z"
   },
   {
    "duration": 16,
    "start_time": "2024-08-20T16:34:41.241Z"
   },
   {
    "duration": 16,
    "start_time": "2024-08-20T16:34:41.260Z"
   },
   {
    "duration": 471,
    "start_time": "2024-08-20T16:34:41.279Z"
   },
   {
    "duration": 357,
    "start_time": "2024-08-20T16:34:41.753Z"
   },
   {
    "duration": 337,
    "start_time": "2024-08-20T16:34:42.113Z"
   },
   {
    "duration": 430,
    "start_time": "2024-08-20T16:34:42.454Z"
   },
   {
    "duration": 23,
    "start_time": "2024-08-20T16:34:42.886Z"
   },
   {
    "duration": 316,
    "start_time": "2024-08-20T16:34:42.912Z"
   },
   {
    "duration": 24,
    "start_time": "2024-08-20T16:34:43.231Z"
   },
   {
    "duration": 526,
    "start_time": "2024-08-20T16:34:43.258Z"
   },
   {
    "duration": 42,
    "start_time": "2024-08-20T16:34:43.787Z"
   },
   {
    "duration": 344,
    "start_time": "2024-08-20T16:34:43.832Z"
   },
   {
    "duration": 13,
    "start_time": "2024-08-20T16:34:44.179Z"
   },
   {
    "duration": 271,
    "start_time": "2024-08-20T16:34:44.196Z"
   },
   {
    "duration": 9,
    "start_time": "2024-08-20T16:34:44.470Z"
   },
   {
    "duration": 259,
    "start_time": "2024-08-20T16:34:44.483Z"
   },
   {
    "duration": 8,
    "start_time": "2024-08-20T16:34:44.745Z"
   },
   {
    "duration": 22,
    "start_time": "2024-08-20T16:34:44.756Z"
   },
   {
    "duration": 4891,
    "start_time": "2024-08-22T13:11:01.315Z"
   },
   {
    "duration": 49,
    "start_time": "2024-08-22T13:11:06.209Z"
   },
   {
    "duration": 41,
    "start_time": "2024-08-22T13:11:06.261Z"
   },
   {
    "duration": 30,
    "start_time": "2024-08-22T13:11:06.307Z"
   },
   {
    "duration": 63,
    "start_time": "2024-08-22T13:11:06.340Z"
   },
   {
    "duration": 25,
    "start_time": "2024-08-22T13:11:06.406Z"
   },
   {
    "duration": 19,
    "start_time": "2024-08-22T13:11:06.434Z"
   },
   {
    "duration": 48,
    "start_time": "2024-08-22T13:11:06.456Z"
   },
   {
    "duration": 17,
    "start_time": "2024-08-22T13:11:06.507Z"
   },
   {
    "duration": 17,
    "start_time": "2024-08-22T13:11:06.530Z"
   },
   {
    "duration": 52,
    "start_time": "2024-08-22T13:11:06.550Z"
   },
   {
    "duration": 462,
    "start_time": "2024-08-22T13:11:06.605Z"
   },
   {
    "duration": 361,
    "start_time": "2024-08-22T13:11:07.072Z"
   },
   {
    "duration": 324,
    "start_time": "2024-08-22T13:11:07.436Z"
   },
   {
    "duration": 508,
    "start_time": "2024-08-22T13:11:07.762Z"
   },
   {
    "duration": 24,
    "start_time": "2024-08-22T13:11:08.274Z"
   },
   {
    "duration": 331,
    "start_time": "2024-08-22T13:11:08.301Z"
   },
   {
    "duration": 24,
    "start_time": "2024-08-22T13:11:08.635Z"
   },
   {
    "duration": 481,
    "start_time": "2024-08-22T13:11:08.662Z"
   },
   {
    "duration": 31,
    "start_time": "2024-08-22T13:11:09.146Z"
   },
   {
    "duration": 378,
    "start_time": "2024-08-22T13:11:09.179Z"
   },
   {
    "duration": 15,
    "start_time": "2024-08-22T13:11:09.559Z"
   },
   {
    "duration": 336,
    "start_time": "2024-08-22T13:11:09.577Z"
   },
   {
    "duration": 9,
    "start_time": "2024-08-22T13:11:09.916Z"
   },
   {
    "duration": 269,
    "start_time": "2024-08-22T13:11:09.927Z"
   },
   {
    "duration": 9,
    "start_time": "2024-08-22T13:11:10.198Z"
   },
   {
    "duration": 23,
    "start_time": "2024-08-22T13:11:10.209Z"
   },
   {
    "duration": 337,
    "start_time": "2024-08-22T13:18:05.764Z"
   },
   {
    "duration": 1067,
    "start_time": "2024-08-22T13:27:12.534Z"
   },
   {
    "duration": 31,
    "start_time": "2024-08-22T13:27:55.076Z"
   },
   {
    "duration": 307,
    "start_time": "2024-08-22T13:28:18.117Z"
   },
   {
    "duration": 369,
    "start_time": "2024-08-22T13:28:43.638Z"
   },
   {
    "duration": 327,
    "start_time": "2024-08-22T13:29:18.795Z"
   },
   {
    "duration": 353,
    "start_time": "2024-08-22T13:35:33.992Z"
   },
   {
    "duration": 416,
    "start_time": "2024-08-22T13:35:53.319Z"
   },
   {
    "duration": 79,
    "start_time": "2024-08-22T13:39:54.691Z"
   },
   {
    "duration": 367,
    "start_time": "2024-08-22T13:40:16.573Z"
   },
   {
    "duration": 434,
    "start_time": "2024-08-22T13:41:35.413Z"
   },
   {
    "duration": 374,
    "start_time": "2024-08-22T13:41:45.818Z"
   },
   {
    "duration": 27,
    "start_time": "2024-08-22T13:50:38.753Z"
   },
   {
    "duration": 419,
    "start_time": "2024-08-22T13:51:20.218Z"
   },
   {
    "duration": 263,
    "start_time": "2024-08-22T13:54:54.089Z"
   },
   {
    "duration": 1114,
    "start_time": "2024-08-22T14:26:31.642Z"
   },
   {
    "duration": 49,
    "start_time": "2024-08-22T14:26:32.762Z"
   },
   {
    "duration": 27,
    "start_time": "2024-08-22T14:26:32.814Z"
   },
   {
    "duration": 29,
    "start_time": "2024-08-22T14:26:32.846Z"
   },
   {
    "duration": 27,
    "start_time": "2024-08-22T14:26:32.903Z"
   },
   {
    "duration": 25,
    "start_time": "2024-08-22T14:26:32.934Z"
   },
   {
    "duration": 55,
    "start_time": "2024-08-22T14:26:32.962Z"
   },
   {
    "duration": 14,
    "start_time": "2024-08-22T14:26:33.019Z"
   },
   {
    "duration": 15,
    "start_time": "2024-08-22T14:26:33.036Z"
   },
   {
    "duration": 56,
    "start_time": "2024-08-22T14:26:33.057Z"
   },
   {
    "duration": 14,
    "start_time": "2024-08-22T14:26:33.115Z"
   },
   {
    "duration": 460,
    "start_time": "2024-08-22T14:26:33.132Z"
   },
   {
    "duration": 364,
    "start_time": "2024-08-22T14:26:33.595Z"
   },
   {
    "duration": 357,
    "start_time": "2024-08-22T14:26:33.962Z"
   },
   {
    "duration": 413,
    "start_time": "2024-08-22T14:26:34.322Z"
   },
   {
    "duration": 377,
    "start_time": "2024-08-22T14:26:34.738Z"
   },
   {
    "duration": 332,
    "start_time": "2024-08-22T14:26:35.118Z"
   },
   {
    "duration": 9,
    "start_time": "2024-08-22T14:26:35.452Z"
   },
   {
    "duration": 263,
    "start_time": "2024-08-22T14:26:35.465Z"
   },
   {
    "duration": 8,
    "start_time": "2024-08-22T14:26:35.731Z"
   },
   {
    "duration": 462,
    "start_time": "2024-08-22T14:26:35.742Z"
   },
   {
    "duration": 29,
    "start_time": "2024-08-22T14:36:32.705Z"
   },
   {
    "duration": 41,
    "start_time": "2024-08-22T14:37:43.036Z"
   },
   {
    "duration": 28,
    "start_time": "2024-08-22T14:40:33.831Z"
   },
   {
    "duration": 40,
    "start_time": "2024-08-22T14:41:43.702Z"
   },
   {
    "duration": 842,
    "start_time": "2024-08-22T14:44:02.430Z"
   },
   {
    "duration": 34,
    "start_time": "2024-08-22T14:47:07.546Z"
   },
   {
    "duration": 1145,
    "start_time": "2024-08-22T14:50:14.168Z"
   },
   {
    "duration": 42,
    "start_time": "2024-08-22T14:50:15.317Z"
   },
   {
    "duration": 40,
    "start_time": "2024-08-22T14:50:15.362Z"
   },
   {
    "duration": 27,
    "start_time": "2024-08-22T14:50:15.406Z"
   },
   {
    "duration": 27,
    "start_time": "2024-08-22T14:50:15.437Z"
   },
   {
    "duration": 25,
    "start_time": "2024-08-22T14:50:15.502Z"
   },
   {
    "duration": 18,
    "start_time": "2024-08-22T14:50:15.530Z"
   },
   {
    "duration": 52,
    "start_time": "2024-08-22T14:50:15.551Z"
   },
   {
    "duration": 16,
    "start_time": "2024-08-22T14:50:15.606Z"
   },
   {
    "duration": 15,
    "start_time": "2024-08-22T14:50:15.625Z"
   },
   {
    "duration": 15,
    "start_time": "2024-08-22T14:50:15.644Z"
   },
   {
    "duration": 513,
    "start_time": "2024-08-22T14:50:15.661Z"
   },
   {
    "duration": 366,
    "start_time": "2024-08-22T14:50:16.177Z"
   },
   {
    "duration": 370,
    "start_time": "2024-08-22T14:50:16.548Z"
   },
   {
    "duration": 408,
    "start_time": "2024-08-22T14:50:16.922Z"
   },
   {
    "duration": 375,
    "start_time": "2024-08-22T14:50:17.333Z"
   },
   {
    "duration": 329,
    "start_time": "2024-08-22T14:50:17.711Z"
   },
   {
    "duration": 9,
    "start_time": "2024-08-22T14:50:18.043Z"
   },
   {
    "duration": 281,
    "start_time": "2024-08-22T14:50:18.055Z"
   },
   {
    "duration": 8,
    "start_time": "2024-08-22T14:50:18.341Z"
   },
   {
    "duration": 12,
    "start_time": "2024-08-22T14:50:18.352Z"
   },
   {
    "duration": 400,
    "start_time": "2024-08-22T14:51:29.927Z"
   },
   {
    "duration": 5,
    "start_time": "2024-08-22T14:51:47.419Z"
   },
   {
    "duration": 1125,
    "start_time": "2024-08-22T14:51:54.956Z"
   },
   {
    "duration": 45,
    "start_time": "2024-08-22T14:51:56.085Z"
   },
   {
    "duration": 28,
    "start_time": "2024-08-22T14:51:56.133Z"
   },
   {
    "duration": 55,
    "start_time": "2024-08-22T14:51:56.164Z"
   },
   {
    "duration": 30,
    "start_time": "2024-08-22T14:51:56.221Z"
   },
   {
    "duration": 63,
    "start_time": "2024-08-22T14:51:56.253Z"
   },
   {
    "duration": 25,
    "start_time": "2024-08-22T14:51:56.323Z"
   },
   {
    "duration": 18,
    "start_time": "2024-08-22T14:51:56.351Z"
   },
   {
    "duration": 42,
    "start_time": "2024-08-22T14:51:56.372Z"
   },
   {
    "duration": 16,
    "start_time": "2024-08-22T14:51:56.420Z"
   },
   {
    "duration": 14,
    "start_time": "2024-08-22T14:51:56.439Z"
   },
   {
    "duration": 479,
    "start_time": "2024-08-22T14:51:56.456Z"
   },
   {
    "duration": 371,
    "start_time": "2024-08-22T14:51:56.939Z"
   },
   {
    "duration": 344,
    "start_time": "2024-08-22T14:51:57.314Z"
   },
   {
    "duration": 428,
    "start_time": "2024-08-22T14:51:57.661Z"
   },
   {
    "duration": 383,
    "start_time": "2024-08-22T14:51:58.092Z"
   },
   {
    "duration": 327,
    "start_time": "2024-08-22T14:51:58.478Z"
   },
   {
    "duration": 8,
    "start_time": "2024-08-22T14:51:58.808Z"
   },
   {
    "duration": 268,
    "start_time": "2024-08-22T14:51:58.820Z"
   },
   {
    "duration": 15,
    "start_time": "2024-08-22T14:51:59.091Z"
   },
   {
    "duration": 21,
    "start_time": "2024-08-22T14:51:59.111Z"
   },
   {
    "duration": 424,
    "start_time": "2024-08-22T14:52:45.844Z"
   },
   {
    "duration": 18,
    "start_time": "2024-08-22T14:53:21.880Z"
   },
   {
    "duration": 20,
    "start_time": "2024-08-22T14:53:48.918Z"
   },
   {
    "duration": 24,
    "start_time": "2024-08-22T14:57:06.923Z"
   },
   {
    "duration": 15,
    "start_time": "2024-08-22T14:57:31.002Z"
   },
   {
    "duration": 37,
    "start_time": "2024-08-22T15:07:24.113Z"
   },
   {
    "duration": 18,
    "start_time": "2024-08-22T15:07:31.801Z"
   },
   {
    "duration": 36,
    "start_time": "2024-08-22T15:39:59.943Z"
   },
   {
    "duration": 37,
    "start_time": "2024-08-22T15:40:21.715Z"
   },
   {
    "duration": 26,
    "start_time": "2024-08-22T15:41:24.685Z"
   },
   {
    "duration": 13,
    "start_time": "2024-08-22T15:42:06.316Z"
   },
   {
    "duration": 6,
    "start_time": "2024-08-22T15:42:49.854Z"
   },
   {
    "duration": 24,
    "start_time": "2024-08-22T15:47:23.289Z"
   },
   {
    "duration": 1123,
    "start_time": "2024-08-22T15:47:51.930Z"
   },
   {
    "duration": 50,
    "start_time": "2024-08-22T15:47:53.057Z"
   },
   {
    "duration": 30,
    "start_time": "2024-08-22T15:47:53.110Z"
   },
   {
    "duration": 57,
    "start_time": "2024-08-22T15:47:53.145Z"
   },
   {
    "duration": 27,
    "start_time": "2024-08-22T15:47:53.205Z"
   },
   {
    "duration": 25,
    "start_time": "2024-08-22T15:47:53.234Z"
   },
   {
    "duration": 56,
    "start_time": "2024-08-22T15:47:53.262Z"
   },
   {
    "duration": 13,
    "start_time": "2024-08-22T15:47:53.321Z"
   },
   {
    "duration": 16,
    "start_time": "2024-08-22T15:47:53.338Z"
   },
   {
    "duration": 54,
    "start_time": "2024-08-22T15:47:53.359Z"
   },
   {
    "duration": 13,
    "start_time": "2024-08-22T15:47:53.416Z"
   },
   {
    "duration": 463,
    "start_time": "2024-08-22T15:47:53.432Z"
   },
   {
    "duration": 349,
    "start_time": "2024-08-22T15:47:53.902Z"
   },
   {
    "duration": 356,
    "start_time": "2024-08-22T15:47:54.254Z"
   },
   {
    "duration": 419,
    "start_time": "2024-08-22T15:47:54.613Z"
   },
   {
    "duration": 379,
    "start_time": "2024-08-22T15:47:55.035Z"
   },
   {
    "duration": 328,
    "start_time": "2024-08-22T15:47:55.417Z"
   },
   {
    "duration": 9,
    "start_time": "2024-08-22T15:47:55.748Z"
   },
   {
    "duration": 283,
    "start_time": "2024-08-22T15:47:55.760Z"
   },
   {
    "duration": 8,
    "start_time": "2024-08-22T15:47:56.046Z"
   },
   {
    "duration": 13,
    "start_time": "2024-08-22T15:47:56.058Z"
   },
   {
    "duration": 41,
    "start_time": "2024-08-22T15:47:56.074Z"
   },
   {
    "duration": 435,
    "start_time": "2024-08-22T15:47:56.119Z"
   },
   {
    "duration": 0,
    "start_time": "2024-08-22T15:47:56.556Z"
   },
   {
    "duration": 25,
    "start_time": "2024-08-22T15:48:16.156Z"
   },
   {
    "duration": 15,
    "start_time": "2024-08-22T15:50:51.282Z"
   },
   {
    "duration": 12,
    "start_time": "2024-08-22T15:51:20.978Z"
   },
   {
    "duration": 17,
    "start_time": "2024-08-22T15:51:42.813Z"
   },
   {
    "duration": 13,
    "start_time": "2024-08-22T15:51:49.602Z"
   },
   {
    "duration": 25,
    "start_time": "2024-08-22T15:52:27.318Z"
   },
   {
    "duration": 25,
    "start_time": "2024-08-22T15:53:24.009Z"
   },
   {
    "duration": 5,
    "start_time": "2024-08-22T15:54:04.011Z"
   },
   {
    "duration": 1167,
    "start_time": "2024-08-22T16:04:33.590Z"
   },
   {
    "duration": 45,
    "start_time": "2024-08-22T16:04:34.760Z"
   },
   {
    "duration": 27,
    "start_time": "2024-08-22T16:04:34.809Z"
   },
   {
    "duration": 28,
    "start_time": "2024-08-22T16:04:34.840Z"
   },
   {
    "duration": 29,
    "start_time": "2024-08-22T16:04:34.901Z"
   },
   {
    "duration": 25,
    "start_time": "2024-08-22T16:04:34.933Z"
   },
   {
    "duration": 58,
    "start_time": "2024-08-22T16:04:34.960Z"
   },
   {
    "duration": 14,
    "start_time": "2024-08-22T16:04:35.020Z"
   },
   {
    "duration": 17,
    "start_time": "2024-08-22T16:04:35.037Z"
   },
   {
    "duration": 51,
    "start_time": "2024-08-22T16:04:35.059Z"
   },
   {
    "duration": 16,
    "start_time": "2024-08-22T16:04:35.114Z"
   },
   {
    "duration": 472,
    "start_time": "2024-08-22T16:04:35.133Z"
   },
   {
    "duration": 365,
    "start_time": "2024-08-22T16:04:35.608Z"
   },
   {
    "duration": 366,
    "start_time": "2024-08-22T16:04:35.976Z"
   },
   {
    "duration": 403,
    "start_time": "2024-08-22T16:04:36.345Z"
   },
   {
    "duration": 370,
    "start_time": "2024-08-22T16:04:36.751Z"
   },
   {
    "duration": 325,
    "start_time": "2024-08-22T16:04:37.124Z"
   },
   {
    "duration": 9,
    "start_time": "2024-08-22T16:04:37.452Z"
   },
   {
    "duration": 271,
    "start_time": "2024-08-22T16:04:37.464Z"
   },
   {
    "duration": 7,
    "start_time": "2024-08-22T16:04:37.740Z"
   },
   {
    "duration": 14,
    "start_time": "2024-08-22T16:04:37.751Z"
   },
   {
    "duration": 42,
    "start_time": "2024-08-22T16:04:37.767Z"
   },
   {
    "duration": 6,
    "start_time": "2024-08-22T16:04:37.812Z"
   }
  ],
  "kernelspec": {
   "display_name": "Python 3 (ipykernel)",
   "language": "python",
   "name": "python3"
  },
  "language_info": {
   "codemirror_mode": {
    "name": "ipython",
    "version": 3
   },
   "file_extension": ".py",
   "mimetype": "text/x-python",
   "name": "python",
   "nbconvert_exporter": "python",
   "pygments_lexer": "ipython3",
   "version": "3.9.19"
  },
  "toc": {
   "base_numbering": 1,
   "nav_menu": {},
   "number_sections": true,
   "sideBar": true,
   "skip_h1_title": true,
   "title_cell": "Table of Contents",
   "title_sidebar": "Contents",
   "toc_cell": false,
   "toc_position": {},
   "toc_section_display": true,
   "toc_window_display": false
  }
 },
 "nbformat": 4,
 "nbformat_minor": 2
}
